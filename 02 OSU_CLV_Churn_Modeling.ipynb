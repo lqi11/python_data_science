{
 "cells": [
  {
   "cell_type": "markdown",
   "metadata": {},
   "source": [
    "# Hands-on Lab --- Churn Modeling"
   ]
  },
  {
   "cell_type": "markdown",
   "metadata": {},
   "source": [
    "## Importing some standard packages, as well as packages needed for modeling:"
   ]
  },
  {
   "cell_type": "code",
   "execution_count": 5,
   "metadata": {},
   "outputs": [
    {
     "name": "stdout",
     "output_type": "stream",
     "text": [
      "Requirement already satisfied: statsmodels in /usr/local/lib/python3.7/site-packages (0.10.1)\r\n",
      "Requirement already satisfied: pandas>=0.19 in /usr/local/lib/python3.7/site-packages (from statsmodels) (0.25.1)\r\n",
      "Requirement already satisfied: numpy>=1.11 in /usr/local/lib/python3.7/site-packages (from statsmodels) (1.17.2)\r\n",
      "Requirement already satisfied: patsy>=0.4.0 in /usr/local/lib/python3.7/site-packages (from statsmodels) (0.5.1)\r\n",
      "Requirement already satisfied: scipy>=0.18 in /usr/local/lib/python3.7/site-packages (from statsmodels) (1.3.1)\r\n",
      "Requirement already satisfied: python-dateutil>=2.6.1 in /usr/local/lib/python3.7/site-packages (from pandas>=0.19->statsmodels) (2.8.0)\r\n",
      "Requirement already satisfied: pytz>=2017.2 in /usr/local/lib/python3.7/site-packages (from pandas>=0.19->statsmodels) (2019.3)\r\n",
      "Requirement already satisfied: six in /Users/linqi/Library/Python/3.7/lib/python/site-packages (from patsy>=0.4.0->statsmodels) (1.12.0)\r\n"
     ]
    }
   ],
   "source": [
    "!pip3 install statsmodels"
   ]
  },
  {
   "cell_type": "code",
   "execution_count": 6,
   "metadata": {},
   "outputs": [],
   "source": [
    "import numpy as np\n",
    "import pandas as pd\n",
    "import sklearn as sk\n",
    "import matplotlib.pyplot as plt\n",
    "\n",
    "from sklearn.model_selection import train_test_split\n",
    "from sklearn.ensemble import (RandomForestRegressor, ExtraTreesRegressor, GradientBoostingRegressor,\n",
    "RandomForestClassifier, ExtraTreesClassifier, GradientBoostingClassifier, AdaBoostClassifier)\n",
    "from sklearn import linear_model\n",
    "from sklearn.metrics import mean_squared_error\n",
    "from sklearn import metrics\n",
    "\n",
    "from sklearn.feature_selection import SelectFromModel\n",
    "\n",
    "import statsmodels.api as sm\n",
    "\n",
    "\n",
    "pd.set_option('display.max_rows', 500)\n",
    "pd.set_option('display.max_columns', 50)\n",
    "pd.set_option('display.width', 1000)\n",
    "pd.set_option('display.precision', 2)"
   ]
  },
  {
   "cell_type": "markdown",
   "metadata": {},
   "source": [
    "## import modeling data created in the Data Prep pipeline"
   ]
  },
  {
   "cell_type": "code",
   "execution_count": 8,
   "metadata": {},
   "outputs": [],
   "source": [
    "combined_df = pd.read_csv('~/Documents/fall2019/5753/combined_data.csv')"
   ]
  },
  {
   "cell_type": "markdown",
   "metadata": {},
   "source": [
    "## Using the head method to preview our data:"
   ]
  },
  {
   "cell_type": "code",
   "execution_count": 9,
   "metadata": {},
   "outputs": [
    {
     "data": {
      "text/html": [
       "<div>\n",
       "<style scoped>\n",
       "    .dataframe tbody tr th:only-of-type {\n",
       "        vertical-align: middle;\n",
       "    }\n",
       "\n",
       "    .dataframe tbody tr th {\n",
       "        vertical-align: top;\n",
       "    }\n",
       "\n",
       "    .dataframe thead th {\n",
       "        text-align: right;\n",
       "    }\n",
       "</style>\n",
       "<table border=\"1\" class=\"dataframe\">\n",
       "  <thead>\n",
       "    <tr style=\"text-align: right;\">\n",
       "      <th></th>\n",
       "      <th>ST</th>\n",
       "      <th>Zip</th>\n",
       "      <th>DMA</th>\n",
       "      <th>Area_Cd</th>\n",
       "      <th>emailable</th>\n",
       "      <th>solicit_ph_ind</th>\n",
       "      <th>solicit_email_ind</th>\n",
       "      <th>fixd_incm_flg</th>\n",
       "      <th>scheduled_purchase_flg</th>\n",
       "      <th>months_since_last_trans</th>\n",
       "      <th>months_since_first_trans</th>\n",
       "      <th>purch_avg_interval</th>\n",
       "      <th>mail_cnt_36mo</th>\n",
       "      <th>call_in_mo_36mo</th>\n",
       "      <th>call_out_mo_36mo</th>\n",
       "      <th>tier</th>\n",
       "      <th>tier_prev</th>\n",
       "      <th>acct_ID</th>\n",
       "      <th>activation_date</th>\n",
       "      <th>event_date</th>\n",
       "      <th>churn_year_plus1_ind</th>\n",
       "      <th>log_order_cnt_36mo</th>\n",
       "      <th>log_purch_amt_36mo</th>\n",
       "      <th>log_purch_amt_life</th>\n",
       "      <th>log_purch_avg_36mo</th>\n",
       "      <th>...</th>\n",
       "      <th>ST_RI</th>\n",
       "      <th>ST_SC</th>\n",
       "      <th>ST_SD</th>\n",
       "      <th>ST_TN</th>\n",
       "      <th>ST_TX</th>\n",
       "      <th>ST_UT</th>\n",
       "      <th>ST_VA</th>\n",
       "      <th>ST_VI</th>\n",
       "      <th>ST_VT</th>\n",
       "      <th>ST_WA</th>\n",
       "      <th>ST_WI</th>\n",
       "      <th>ST_WV</th>\n",
       "      <th>ST_WY</th>\n",
       "      <th>ST_missing</th>\n",
       "      <th>tier_1-Bronze</th>\n",
       "      <th>tier_2-Silver</th>\n",
       "      <th>tier_3-Gold</th>\n",
       "      <th>tier_4-Platinum</th>\n",
       "      <th>tier_5-Diamond</th>\n",
       "      <th>tier_prev_1-Bronze</th>\n",
       "      <th>tier_prev_2-Silver</th>\n",
       "      <th>tier_prev_3-Gold</th>\n",
       "      <th>tier_prev_4-Platinum</th>\n",
       "      <th>tier_prev_5-Diamond</th>\n",
       "      <th>tier_prev_xxx</th>\n",
       "    </tr>\n",
       "  </thead>\n",
       "  <tbody>\n",
       "    <tr>\n",
       "      <td>0</td>\n",
       "      <td>VA</td>\n",
       "      <td>23464</td>\n",
       "      <td>544</td>\n",
       "      <td>missing</td>\n",
       "      <td>0</td>\n",
       "      <td>0</td>\n",
       "      <td>1</td>\n",
       "      <td>0</td>\n",
       "      <td>0</td>\n",
       "      <td>2</td>\n",
       "      <td>128</td>\n",
       "      <td>2.93</td>\n",
       "      <td>4</td>\n",
       "      <td>0</td>\n",
       "      <td>0</td>\n",
       "      <td>3-Gold</td>\n",
       "      <td>xxx</td>\n",
       "      <td>B102465045</td>\n",
       "      <td>04JAN04</td>\n",
       "      <td>30JUN15</td>\n",
       "      <td>1</td>\n",
       "      <td>0.30</td>\n",
       "      <td>4.16</td>\n",
       "      <td>4.42</td>\n",
       "      <td>2.54</td>\n",
       "      <td>...</td>\n",
       "      <td>0</td>\n",
       "      <td>0</td>\n",
       "      <td>0</td>\n",
       "      <td>0</td>\n",
       "      <td>0</td>\n",
       "      <td>0</td>\n",
       "      <td>1</td>\n",
       "      <td>0</td>\n",
       "      <td>0</td>\n",
       "      <td>0</td>\n",
       "      <td>0</td>\n",
       "      <td>0</td>\n",
       "      <td>0</td>\n",
       "      <td>0</td>\n",
       "      <td>0</td>\n",
       "      <td>0</td>\n",
       "      <td>1</td>\n",
       "      <td>0</td>\n",
       "      <td>0</td>\n",
       "      <td>0</td>\n",
       "      <td>0</td>\n",
       "      <td>0</td>\n",
       "      <td>0</td>\n",
       "      <td>0</td>\n",
       "      <td>1</td>\n",
       "    </tr>\n",
       "    <tr>\n",
       "      <td>1</td>\n",
       "      <td>NC</td>\n",
       "      <td>27542</td>\n",
       "      <td>560</td>\n",
       "      <td>919</td>\n",
       "      <td>1</td>\n",
       "      <td>1</td>\n",
       "      <td>1</td>\n",
       "      <td>0</td>\n",
       "      <td>0</td>\n",
       "      <td>4</td>\n",
       "      <td>122</td>\n",
       "      <td>2.11</td>\n",
       "      <td>22</td>\n",
       "      <td>4</td>\n",
       "      <td>0</td>\n",
       "      <td>5-Diamond</td>\n",
       "      <td>3-Gold</td>\n",
       "      <td>B106897643</td>\n",
       "      <td>04JUL04</td>\n",
       "      <td>NaN</td>\n",
       "      <td>0</td>\n",
       "      <td>0.95</td>\n",
       "      <td>3.50</td>\n",
       "      <td>4.09</td>\n",
       "      <td>2.14</td>\n",
       "      <td>...</td>\n",
       "      <td>0</td>\n",
       "      <td>0</td>\n",
       "      <td>0</td>\n",
       "      <td>0</td>\n",
       "      <td>0</td>\n",
       "      <td>0</td>\n",
       "      <td>0</td>\n",
       "      <td>0</td>\n",
       "      <td>0</td>\n",
       "      <td>0</td>\n",
       "      <td>0</td>\n",
       "      <td>0</td>\n",
       "      <td>0</td>\n",
       "      <td>0</td>\n",
       "      <td>0</td>\n",
       "      <td>0</td>\n",
       "      <td>0</td>\n",
       "      <td>0</td>\n",
       "      <td>1</td>\n",
       "      <td>0</td>\n",
       "      <td>0</td>\n",
       "      <td>1</td>\n",
       "      <td>0</td>\n",
       "      <td>0</td>\n",
       "      <td>0</td>\n",
       "    </tr>\n",
       "    <tr>\n",
       "      <td>2</td>\n",
       "      <td>NV</td>\n",
       "      <td>89109</td>\n",
       "      <td>839</td>\n",
       "      <td>702</td>\n",
       "      <td>0</td>\n",
       "      <td>0</td>\n",
       "      <td>1</td>\n",
       "      <td>0</td>\n",
       "      <td>0</td>\n",
       "      <td>8</td>\n",
       "      <td>96</td>\n",
       "      <td>88.00</td>\n",
       "      <td>1</td>\n",
       "      <td>0</td>\n",
       "      <td>0</td>\n",
       "      <td>1-Bronze</td>\n",
       "      <td>xxx</td>\n",
       "      <td>B111832829</td>\n",
       "      <td>03SEP06</td>\n",
       "      <td>NaN</td>\n",
       "      <td>0</td>\n",
       "      <td>0.30</td>\n",
       "      <td>2.48</td>\n",
       "      <td>3.03</td>\n",
       "      <td>2.48</td>\n",
       "      <td>...</td>\n",
       "      <td>0</td>\n",
       "      <td>0</td>\n",
       "      <td>0</td>\n",
       "      <td>0</td>\n",
       "      <td>0</td>\n",
       "      <td>0</td>\n",
       "      <td>0</td>\n",
       "      <td>0</td>\n",
       "      <td>0</td>\n",
       "      <td>0</td>\n",
       "      <td>0</td>\n",
       "      <td>0</td>\n",
       "      <td>0</td>\n",
       "      <td>0</td>\n",
       "      <td>1</td>\n",
       "      <td>0</td>\n",
       "      <td>0</td>\n",
       "      <td>0</td>\n",
       "      <td>0</td>\n",
       "      <td>0</td>\n",
       "      <td>0</td>\n",
       "      <td>0</td>\n",
       "      <td>0</td>\n",
       "      <td>0</td>\n",
       "      <td>1</td>\n",
       "    </tr>\n",
       "    <tr>\n",
       "      <td>3</td>\n",
       "      <td>OH</td>\n",
       "      <td>43050</td>\n",
       "      <td>535</td>\n",
       "      <td>614</td>\n",
       "      <td>0</td>\n",
       "      <td>1</td>\n",
       "      <td>1</td>\n",
       "      <td>0</td>\n",
       "      <td>0</td>\n",
       "      <td>1</td>\n",
       "      <td>108</td>\n",
       "      <td>1.02</td>\n",
       "      <td>36</td>\n",
       "      <td>0</td>\n",
       "      <td>0</td>\n",
       "      <td>1-Bronze</td>\n",
       "      <td>xxx</td>\n",
       "      <td>B112883062</td>\n",
       "      <td>03SEP05</td>\n",
       "      <td>NaN</td>\n",
       "      <td>0</td>\n",
       "      <td>0.85</td>\n",
       "      <td>2.85</td>\n",
       "      <td>3.33</td>\n",
       "      <td>1.32</td>\n",
       "      <td>...</td>\n",
       "      <td>0</td>\n",
       "      <td>0</td>\n",
       "      <td>0</td>\n",
       "      <td>0</td>\n",
       "      <td>0</td>\n",
       "      <td>0</td>\n",
       "      <td>0</td>\n",
       "      <td>0</td>\n",
       "      <td>0</td>\n",
       "      <td>0</td>\n",
       "      <td>0</td>\n",
       "      <td>0</td>\n",
       "      <td>0</td>\n",
       "      <td>0</td>\n",
       "      <td>1</td>\n",
       "      <td>0</td>\n",
       "      <td>0</td>\n",
       "      <td>0</td>\n",
       "      <td>0</td>\n",
       "      <td>0</td>\n",
       "      <td>0</td>\n",
       "      <td>0</td>\n",
       "      <td>0</td>\n",
       "      <td>0</td>\n",
       "      <td>1</td>\n",
       "    </tr>\n",
       "    <tr>\n",
       "      <td>4</td>\n",
       "      <td>HI</td>\n",
       "      <td>96789</td>\n",
       "      <td>744</td>\n",
       "      <td>808</td>\n",
       "      <td>1</td>\n",
       "      <td>1</td>\n",
       "      <td>1</td>\n",
       "      <td>0</td>\n",
       "      <td>0</td>\n",
       "      <td>4</td>\n",
       "      <td>105</td>\n",
       "      <td>1.53</td>\n",
       "      <td>19</td>\n",
       "      <td>4</td>\n",
       "      <td>0</td>\n",
       "      <td>4-Platinum</td>\n",
       "      <td>3-Gold</td>\n",
       "      <td>B113581008</td>\n",
       "      <td>03DEC05</td>\n",
       "      <td>NaN</td>\n",
       "      <td>0</td>\n",
       "      <td>0.85</td>\n",
       "      <td>3.93</td>\n",
       "      <td>4.30</td>\n",
       "      <td>2.65</td>\n",
       "      <td>...</td>\n",
       "      <td>0</td>\n",
       "      <td>0</td>\n",
       "      <td>0</td>\n",
       "      <td>0</td>\n",
       "      <td>0</td>\n",
       "      <td>0</td>\n",
       "      <td>0</td>\n",
       "      <td>0</td>\n",
       "      <td>0</td>\n",
       "      <td>0</td>\n",
       "      <td>0</td>\n",
       "      <td>0</td>\n",
       "      <td>0</td>\n",
       "      <td>0</td>\n",
       "      <td>0</td>\n",
       "      <td>0</td>\n",
       "      <td>0</td>\n",
       "      <td>1</td>\n",
       "      <td>0</td>\n",
       "      <td>0</td>\n",
       "      <td>0</td>\n",
       "      <td>1</td>\n",
       "      <td>0</td>\n",
       "      <td>0</td>\n",
       "      <td>0</td>\n",
       "    </tr>\n",
       "  </tbody>\n",
       "</table>\n",
       "<p>5 rows × 111 columns</p>\n",
       "</div>"
      ],
      "text/plain": [
       "   ST    Zip  DMA  Area_Cd  emailable  solicit_ph_ind  solicit_email_ind  fixd_incm_flg  scheduled_purchase_flg  months_since_last_trans  months_since_first_trans  purch_avg_interval  mail_cnt_36mo  call_in_mo_36mo  call_out_mo_36mo        tier tier_prev     acct_ID activation_date event_date  churn_year_plus1_ind  log_order_cnt_36mo  log_purch_amt_36mo  log_purch_amt_life  log_purch_avg_36mo  ...  ST_RI  ST_SC  ST_SD  ST_TN  ST_TX  ST_UT  ST_VA  ST_VI  ST_VT  ST_WA  ST_WI  ST_WV  ST_WY  ST_missing  tier_1-Bronze  tier_2-Silver  tier_3-Gold  tier_4-Platinum  tier_5-Diamond  tier_prev_1-Bronze  tier_prev_2-Silver  tier_prev_3-Gold  tier_prev_4-Platinum  tier_prev_5-Diamond  tier_prev_xxx\n",
       "0  VA  23464  544  missing          0               0                  1              0                       0                        2                       128                2.93              4                0                 0      3-Gold       xxx  B102465045         04JAN04    30JUN15                     1                0.30                4.16                4.42                2.54  ...      0      0      0      0      0      0      1      0      0      0      0      0      0           0              0              0            1                0               0                   0                   0                 0                     0                    0              1\n",
       "1  NC  27542  560      919          1               1                  1              0                       0                        4                       122                2.11             22                4                 0   5-Diamond    3-Gold  B106897643         04JUL04        NaN                     0                0.95                3.50                4.09                2.14  ...      0      0      0      0      0      0      0      0      0      0      0      0      0           0              0              0            0                0               1                   0                   0                 1                     0                    0              0\n",
       "2  NV  89109  839      702          0               0                  1              0                       0                        8                        96               88.00              1                0                 0    1-Bronze       xxx  B111832829         03SEP06        NaN                     0                0.30                2.48                3.03                2.48  ...      0      0      0      0      0      0      0      0      0      0      0      0      0           0              1              0            0                0               0                   0                   0                 0                     0                    0              1\n",
       "3  OH  43050  535      614          0               1                  1              0                       0                        1                       108                1.02             36                0                 0    1-Bronze       xxx  B112883062         03SEP05        NaN                     0                0.85                2.85                3.33                1.32  ...      0      0      0      0      0      0      0      0      0      0      0      0      0           0              1              0            0                0               0                   0                   0                 0                     0                    0              1\n",
       "4  HI  96789  744      808          1               1                  1              0                       0                        4                       105                1.53             19                4                 0  4-Platinum    3-Gold  B113581008         03DEC05        NaN                     0                0.85                3.93                4.30                2.65  ...      0      0      0      0      0      0      0      0      0      0      0      0      0           0              0              0            0                1               0                   0                   0                 1                     0                    0              0\n",
       "\n",
       "[5 rows x 111 columns]"
      ]
     },
     "execution_count": 9,
     "metadata": {},
     "output_type": "execute_result"
    }
   ],
   "source": [
    "combined_df.head()"
   ]
  },
  {
   "cell_type": "markdown",
   "metadata": {},
   "source": [
    "## Doing some basic exploratory analysis:"
   ]
  },
  {
   "cell_type": "code",
   "execution_count": 10,
   "metadata": {},
   "outputs": [
    {
     "name": "stdout",
     "output_type": "stream",
     "text": [
      " \n",
      "averages by churn ind\n",
      " \n",
      "churn_year_plus1_ind\n",
      "0    3.00\n",
      "1    2.48\n",
      "Name: log_purch_amt_life, dtype: float64\n",
      " \n",
      " \n",
      "churn_year_plus1_ind\n",
      "0    3.57e-01\n",
      "1    5.34e-03\n",
      "Name: scheduled_purchase_flg, dtype: float64\n",
      " \n",
      " \n",
      "churn_year_plus1_ind\n",
      "0    1.76\n",
      "1    6.11\n",
      "Name: months_since_last_trans, dtype: float64\n"
     ]
    }
   ],
   "source": [
    "\"\"\" Analyzing average values of numeric variables, by the levels of the binary target variable \"\"\"\n",
    "print(\" \") \n",
    "print(\"averages by churn ind\")\n",
    "print(\" \") \n",
    "print(combined_df.groupby('churn_year_plus1_ind')['log_purch_amt_life'].mean())\n",
    "\n",
    "print(\" \") \n",
    "print(\" \") \n",
    "print(combined_df.groupby('churn_year_plus1_ind')['scheduled_purchase_flg'].mean())\n",
    "\n",
    "print(\" \") \n",
    "print(\" \") \n",
    "print(combined_df.groupby('churn_year_plus1_ind')['months_since_last_trans'].mean())"
   ]
  },
  {
   "cell_type": "code",
   "execution_count": 11,
   "metadata": {},
   "outputs": [
    {
     "data": {
      "text/plain": [
       "<matplotlib.axes._subplots.AxesSubplot at 0x10bc47f90>"
      ]
     },
     "execution_count": 11,
     "metadata": {},
     "output_type": "execute_result"
    },
    {
     "data": {
      "image/png": "[encoded data removed]",
      "text/plain": [
       "<Figure size 1080x1080 with 1 Axes>"
      ]
     },
     "metadata": {
      "needs_background": "light"
     },
     "output_type": "display_data"
    }
   ],
   "source": [
    "\"\"\" A boxplot to investigate the distribution of numeric variables by the levels of the target \"\"\"\n",
    "\n",
    "combined_df.boxplot(column='log_order_cnt_36mo', by='churn_year_plus1_ind',figsize=(15,15))"
   ]
  },
  {
   "cell_type": "markdown",
   "metadata": {},
   "source": [
    "## Printing variable stats:"
   ]
  },
  {
   "cell_type": "code",
   "execution_count": 12,
   "metadata": {},
   "outputs": [
    {
     "name": "stdout",
     "output_type": "stream",
     "text": [
      " summary stats on combined data \n",
      "                            count unique        top   freq     mean      std      min   25%      50%      75%      max\n",
      "ST                          73384     59         CA   6641      NaN      NaN      NaN   NaN      NaN      NaN      NaN\n",
      "Zip                         73384  18351    missing    282      NaN      NaN      NaN   NaN      NaN      NaN      NaN\n",
      "DMA                         73384    216        803   3012      NaN      NaN      NaN   NaN      NaN      NaN      NaN\n",
      "Area_Cd                     73384    328    missing   3849      NaN      NaN      NaN   NaN      NaN      NaN      NaN\n",
      "emailable                 7.3e+04    NaN        NaN    NaN     0.52      0.5        0     0        1        1        1\n",
      "solicit_ph_ind            7.3e+04    NaN        NaN    NaN     0.89     0.31        0     1        1        1        1\n",
      "solicit_email_ind         7.3e+04    NaN        NaN    NaN     0.96     0.19        0     1        1        1        1\n",
      "fixd_incm_flg             7.3e+04    NaN        NaN    NaN    0.092     0.29        0     0        0        0        1\n",
      "scheduled_purchase_flg    7.3e+04    NaN        NaN    NaN     0.26     0.44        0     0        0        1        1\n",
      "months_since_last_trans   7.3e+04    NaN        NaN    NaN      2.9      3.1        1     1        1        4       12\n",
      "months_since_first_trans  7.3e+04    NaN        NaN    NaN       65       58        1    14       46  1.1e+02    3e+02\n",
      "purch_avg_interval        7.3e+04    NaN        NaN    NaN      4.9       10        0     1      1.2      2.6  1.6e+02\n",
      "mail_cnt_36mo             7.3e+04    NaN        NaN    NaN       19       15        0     6       16       33  4.3e+02\n",
      "call_in_mo_36mo           7.3e+04    NaN        NaN    NaN      7.8       46        0     0        0        3  2.3e+03\n",
      "call_out_mo_36mo          7.3e+04    NaN        NaN    NaN      2.3      2.4        0     1        2        3       38\n",
      "tier                        73384      5   1-Bronze  46991      NaN      NaN      NaN   NaN      NaN      NaN      NaN\n",
      "tier_prev                   73384      6        xxx  49556      NaN      NaN      NaN   NaN      NaN      NaN      NaN\n",
      "acct_ID                     73384  73384  H65195656      1      NaN      NaN      NaN   NaN      NaN      NaN      NaN\n",
      "activation_date             73384    200    06JUL00   5294      NaN      NaN      NaN   NaN      NaN      NaN      NaN\n",
      "event_date                  19306     12    31JUL15   2153      NaN      NaN      NaN   NaN      NaN      NaN      NaN\n",
      "churn_year_plus1_ind      7.3e+04    NaN        NaN    NaN     0.26     0.44        0     0        0        1        1\n",
      "log_order_cnt_36mo        7.3e+04    NaN        NaN    NaN     0.74     0.29        0   0.6      0.7      0.9      2.7\n",
      "log_purch_amt_36mo        7.3e+04    NaN        NaN    NaN      2.6     0.65        0   2.2      2.7        3      5.8\n",
      "log_purch_amt_life        7.3e+04    NaN        NaN    NaN      2.9     0.79        0   2.3      2.9      3.4        6\n",
      "log_purch_avg_36mo        7.3e+04    NaN        NaN    NaN      1.5     0.35        0   1.3      1.4      1.7      4.7\n",
      "log_purch_cnt_life        7.3e+04    NaN        NaN    NaN      1.4      0.6      0.3  0.95      1.4      1.9      3.2\n",
      "log_purch_cnt_tt_36mo     7.3e+04    NaN        NaN    NaN      1.1     0.43        0  0.85      1.2      1.5      2.8\n",
      "log_resp_cnt_36mo         7.3e+04    NaN        NaN    NaN     0.33     0.45        0     0        0      0.6      2.4\n",
      "perc_purch_cc_36mo        7.3e+04    NaN        NaN    NaN     0.31     0.44        0     0        0     0.93        1\n",
      "perc_purch_ck_36mo        7.3e+04    NaN        NaN    NaN     0.56     0.47        0     0     0.93        1        2\n",
      "perc_purch_et_36mo        7.3e+04    NaN        NaN    NaN     0.13     0.32        0     0        0        0        1\n",
      "margin_Y_neg_1            7.3e+04    NaN        NaN    NaN  2.3e+02  1.6e+03 -1.9e+04    43  1.8e+02  3.4e+02    2e+05\n",
      "margin_Y_neg_2            7.3e+04    NaN        NaN    NaN  1.9e+02  1.7e+03 -7.7e+03     0  1.2e+02  2.9e+02    2e+05\n",
      "margin_Y_neg_3            7.3e+04    NaN        NaN    NaN  1.6e+02  1.4e+03 -6.9e+03     0       26  2.4e+02  1.9e+05\n",
      "margin_Y_pos_1            7.3e+04    NaN        NaN    NaN  3.6e+02  1.7e+03 -2.7e+03  -2.2  1.6e+02  3.3e+02    2e+05\n",
      "margin_3yr_avg            7.3e+04    NaN        NaN    NaN  1.9e+02  1.3e+03 -7.2e+03    29  1.3e+02  2.9e+02  1.8e+05\n",
      "log_margin_Y_neg_1        7.3e+04    NaN        NaN    NaN      4.7   0.0097      4.5   4.7      4.7      4.7      5.4\n",
      "log_margin_Y_neg_2        7.3e+04    NaN        NaN    NaN      4.7   0.0098      4.6   4.7      4.7      4.7      5.4\n",
      "log_margin_Y_neg_3        7.3e+04    NaN        NaN    NaN      4.7   0.0084      4.6   4.7      4.7      4.7      5.4\n",
      "log_margin_3yr_avg        7.3e+04    NaN        NaN    NaN      4.7   0.0082      4.6   4.7      4.7      4.7      5.4\n",
      "log_margin_Y_pos_1        7.3e+04    NaN        NaN    NaN      4.7   0.0096      4.7   4.7      4.7      4.7      5.4\n",
      "ST_AE                     7.3e+04    NaN        NaN    NaN  0.00019    0.014        0     0        0        0        1\n",
      "ST_AK                     7.3e+04    NaN        NaN    NaN   0.0032    0.057        0     0        0        0        1\n",
      "ST_AL                     7.3e+04    NaN        NaN    NaN    0.021     0.14        0     0        0        0        1\n",
      "ST_AP                     7.3e+04    NaN        NaN    NaN   0.0002    0.014        0     0        0        0        1\n",
      "ST_AR                     7.3e+04    NaN        NaN    NaN   0.0076    0.087        0     0        0        0        1\n",
      "ST_AS                     7.3e+04    NaN        NaN    NaN  1.4e-05   0.0037        0     0        0        0        1\n",
      "ST_AZ                     7.3e+04    NaN        NaN    NaN    0.022     0.15        0     0        0        0        1\n",
      "ST_CA                     7.3e+04    NaN        NaN    NaN     0.09     0.29        0     0        0        0        1\n",
      "ST_CO                     7.3e+04    NaN        NaN    NaN    0.013     0.11        0     0        0        0        1\n",
      "ST_CT                     7.3e+04    NaN        NaN    NaN   0.0062    0.078        0     0        0        0        1\n",
      "ST_DC                     7.3e+04    NaN        NaN    NaN   0.0011    0.033        0     0        0        0        1\n",
      "ST_DE                     7.3e+04    NaN        NaN    NaN   0.0034    0.058        0     0        0        0        1\n",
      "ST_FL                     7.3e+04    NaN        NaN    NaN    0.068     0.25        0     0        0        0        1\n",
      "ST_GA                     7.3e+04    NaN        NaN    NaN     0.04      0.2        0     0        0        0        1\n",
      "ST_GU                     7.3e+04    NaN        NaN    NaN  0.00018    0.013        0     0        0        0        1\n",
      "ST_HI                     7.3e+04    NaN        NaN    NaN   0.0055    0.074        0     0        0        0        1\n",
      "ST_IA                     7.3e+04    NaN        NaN    NaN   0.0064     0.08        0     0        0        0        1\n",
      "ST_ID                     7.3e+04    NaN        NaN    NaN   0.0048    0.069        0     0        0        0        1\n",
      "ST_IL                     7.3e+04    NaN        NaN    NaN    0.029     0.17        0     0        0        0        1\n",
      "ST_IN                     7.3e+04    NaN        NaN    NaN    0.025     0.15        0     0        0        0        1\n",
      "ST_KS                     7.3e+04    NaN        NaN    NaN    0.013     0.11        0     0        0        0        1\n",
      "ST_KY                     7.3e+04    NaN        NaN    NaN    0.015     0.12        0     0        0        0        1\n",
      "ST_LA                     7.3e+04    NaN        NaN    NaN    0.023     0.15        0     0        0        0        1\n",
      "ST_MA                     7.3e+04    NaN        NaN    NaN   0.0095    0.097        0     0        0        0        1\n",
      "ST_MD                     7.3e+04    NaN        NaN    NaN    0.019     0.14        0     0        0        0        1\n",
      "ST_ME                     7.3e+04    NaN        NaN    NaN   0.0017    0.041        0     0        0        0        1\n",
      "ST_MI                     7.3e+04    NaN        NaN    NaN    0.027     0.16        0     0        0        0        1\n",
      "ST_MN                     7.3e+04    NaN        NaN    NaN    0.012     0.11        0     0        0        0        1\n",
      "ST_MO                     7.3e+04    NaN        NaN    NaN    0.022     0.15        0     0        0        0        1\n",
      "ST_MP                     7.3e+04    NaN        NaN    NaN  9.5e-05   0.0098        0     0        0        0        1\n",
      "ST_MS                     7.3e+04    NaN        NaN    NaN   0.0075    0.087        0     0        0        0        1\n",
      "ST_MT                     7.3e+04    NaN        NaN    NaN   0.0043    0.065        0     0        0        0        1\n",
      "ST_NC                     7.3e+04    NaN        NaN    NaN    0.044     0.21        0     0        0        0        1\n",
      "ST_ND                     7.3e+04    NaN        NaN    NaN   0.0029    0.053        0     0        0        0        1\n",
      "ST_NE                     7.3e+04    NaN        NaN    NaN   0.0036     0.06        0     0        0        0        1\n",
      "ST_NH                     7.3e+04    NaN        NaN    NaN   0.0015    0.039        0     0        0        0        1\n",
      "ST_NJ                     7.3e+04    NaN        NaN    NaN    0.018     0.13        0     0        0        0        1\n",
      "ST_NM                     7.3e+04    NaN        NaN    NaN    0.011      0.1        0     0        0        0        1\n",
      "ST_NV                     7.3e+04    NaN        NaN    NaN   0.0051    0.071        0     0        0        0        1\n",
      "ST_NY                     7.3e+04    NaN        NaN    NaN     0.04      0.2        0     0        0        0        1\n",
      "ST_OH                     7.3e+04    NaN        NaN    NaN    0.039     0.19        0     0        0        0        1\n",
      "ST_OK                     7.3e+04    NaN        NaN    NaN    0.015     0.12        0     0        0        0        1\n",
      "ST_OR                     7.3e+04    NaN        NaN    NaN    0.024     0.15        0     0        0        0        1\n",
      "ST_PA                     7.3e+04    NaN        NaN    NaN    0.051     0.22        0     0        0        0        1\n",
      "ST_PR                     7.3e+04    NaN        NaN    NaN  0.00045    0.021        0     0        0        0        1\n",
      "ST_RI                     7.3e+04    NaN        NaN    NaN   0.0041    0.064        0     0        0        0        1\n",
      "ST_SC                     7.3e+04    NaN        NaN    NaN    0.019     0.14        0     0        0        0        1\n",
      "ST_SD                     7.3e+04    NaN        NaN    NaN   0.0024    0.049        0     0        0        0        1\n",
      "ST_TN                     7.3e+04    NaN        NaN    NaN    0.029     0.17        0     0        0        0        1\n",
      "ST_TX                     7.3e+04    NaN        NaN    NaN    0.089     0.28        0     0        0        0        1\n",
      "ST_UT                     7.3e+04    NaN        NaN    NaN   0.0014    0.038        0     0        0        0        1\n",
      "ST_VA                     7.3e+04    NaN        NaN    NaN    0.044      0.2        0     0        0        0        1\n",
      "ST_VI                     7.3e+04    NaN        NaN    NaN  0.00026    0.016        0     0        0        0        1\n",
      "ST_VT                     7.3e+04    NaN        NaN    NaN  0.00074    0.027        0     0        0        0        1\n",
      "ST_WA                     7.3e+04    NaN        NaN    NaN    0.027     0.16        0     0        0        0        1\n",
      "ST_WI                     7.3e+04    NaN        NaN    NaN    0.013     0.11        0     0        0        0        1\n",
      "ST_WV                     7.3e+04    NaN        NaN    NaN   0.0085    0.092        0     0        0        0        1\n",
      "ST_WY                     7.3e+04    NaN        NaN    NaN    0.002    0.045        0     0        0        0        1\n",
      "ST_missing                7.3e+04    NaN        NaN    NaN    0.004    0.063        0     0        0        0        1\n",
      "tier_1-Bronze             7.3e+04    NaN        NaN    NaN     0.64     0.48        0     0        1        1        1\n",
      "tier_2-Silver             7.3e+04    NaN        NaN    NaN      0.2      0.4        0     0        0        0        1\n",
      "tier_3-Gold               7.3e+04    NaN        NaN    NaN     0.11     0.32        0     0        0        0        1\n",
      "tier_4-Platinum           7.3e+04    NaN        NaN    NaN    0.023     0.15        0     0        0        0        1\n",
      "tier_5-Diamond            7.3e+04    NaN        NaN    NaN     0.02     0.14        0     0        0        0        1\n",
      "tier_prev_1-Bronze        7.3e+04    NaN        NaN    NaN     0.21     0.41        0     0        0        0        1\n",
      "tier_prev_2-Silver        7.3e+04    NaN        NaN    NaN    0.064     0.24        0     0        0        0        1\n",
      "tier_prev_3-Gold          7.3e+04    NaN        NaN    NaN    0.033     0.18        0     0        0        0        1\n",
      "tier_prev_4-Platinum      7.3e+04    NaN        NaN    NaN    0.011      0.1        0     0        0        0        1\n",
      "tier_prev_5-Diamond       7.3e+04    NaN        NaN    NaN   0.0061    0.078        0     0        0        0        1\n",
      "tier_prev_xxx             7.3e+04    NaN        NaN    NaN     0.68     0.47        0     0        1        1        1\n"
     ]
    }
   ],
   "source": [
    "print(\" summary stats on combined data \") \n",
    "print(combined_df.describe(include='all').transpose())"
   ]
  },
  {
   "cell_type": "markdown",
   "metadata": {},
   "source": [
    "## Dropping variables we don't want included in modeling, and creating new version of data for modeling:"
   ]
  },
  {
   "cell_type": "code",
   "execution_count": 13,
   "metadata": {},
   "outputs": [
    {
     "data": {
      "text/plain": [
       "(73384, 103)"
      ]
     },
     "execution_count": 13,
     "metadata": {},
     "output_type": "execute_result"
    }
   ],
   "source": [
    "\"\"\" Any categorical variable for which we did not create dummy indicators        \"\"\"\n",
    "\"\"\"    and other variables we don't want in the model, or which don't make sense \"\"\"\n",
    "\"\"\"    to be included in model training, we are dropping here:                   \"\"\"\n",
    "\n",
    "\"\"\" Note:  we also want to drop acct_ID, but we are going to do that after partioning \"\"\"\n",
    "\"\"\"        because we need acct_ID for partioned sets to for reference later          \"\"\"\n",
    "\n",
    "x_train_df = combined_df.drop(['Zip','DMA','Area_Cd','activation_date','event_date',\n",
    "                            'ST','tier','tier_prev'\n",
    "                              ],axis=1)\n",
    "\n",
    "x_train_df.shape"
   ]
  },
  {
   "cell_type": "markdown",
   "metadata": {},
   "source": [
    "## Partitioning data into Training and Test sets, creating X vs Y sets, and\n",
    "##     creating dataframes with just account IDs to be used to rejoin data later:"
   ]
  },
  {
   "cell_type": "code",
   "execution_count": 14,
   "metadata": {},
   "outputs": [
    {
     "data": {
      "text/plain": [
       "(51368, 99)"
      ]
     },
     "execution_count": 14,
     "metadata": {},
     "output_type": "execute_result"
    }
   ],
   "source": [
    "x_train_df, x_test_df = train_test_split(x_train_df, test_size = 0.30)\n",
    "\n",
    "\"\"\" will need the acct_IDs to rejoin data later, so pulling out now before dropping from actual model training data \"\"\"\n",
    "\n",
    "train_acct_IDs_df = x_train_df[['acct_ID']]\n",
    "test_acct_IDs_df  = x_test_df[['acct_ID']]\n",
    "\n",
    "\"\"\" the target (or dependent) variable is stored in it's own dataframe \"\"\"\n",
    "\n",
    "y_train_df = x_train_df[['churn_year_plus1_ind']]\n",
    "y_test_df  = x_test_df[['churn_year_plus1_ind']]\n",
    "\n",
    "\"\"\" and we want to drop acct_ID and the target variable from the dataframe of independent variables \"\"\"\n",
    "\"\"\" PLUS we want to drop the target (future timeframe) variables for margin modeling                \"\"\"\n",
    "\n",
    "x_train_df = x_train_df.drop(['acct_ID','churn_year_plus1_ind', 'log_margin_Y_pos_1', 'margin_Y_pos_1'\n",
    "                             ],axis=1)\n",
    "\n",
    "x_test_df = x_test_df.drop(['acct_ID','churn_year_plus1_ind', 'log_margin_Y_pos_1', 'margin_Y_pos_1'\n",
    "                             ],axis=1)\n",
    "\n",
    "x_train_df.shape"
   ]
  },
  {
   "cell_type": "markdown",
   "metadata": {},
   "source": [
    "## Starting with a scikit_learn Logistic Regression Model\n",
    "##    and using that modeling algorithm to select variables.\n",
    "\n",
    "## Note:  change the C parameter and rerun to get reasonable number of selected vars."
   ]
  },
  {
   "cell_type": "code",
   "execution_count": 15,
   "metadata": {},
   "outputs": [
    {
     "data": {
      "text/plain": [
       "(21, 1)"
      ]
     },
     "execution_count": 15,
     "metadata": {},
     "output_type": "execute_result"
    }
   ],
   "source": [
    "\"\"\" models penalized with the L1 norm have sparse solutions: many of their estimated coefficients are zero \"\"\"\n",
    "\"\"\" SelectFromModel can be used to to select effects with non-zero coefficients \"\"\"\n",
    "\"\"\" the parameter C controls the sparsity: the smaller C the fewer features selected \"\"\"\n",
    "\n",
    "\"\"\" using the ravel simply to avoid warning in log \"\"\"\n",
    "y_train_array=np.ravel(y_train_df)\n",
    "\n",
    "\"\"\" start with C = 1.0, then try 0.1, etc \"\"\"\n",
    "model1 = linear_model.LogisticRegression(C=0.01, solver='liblinear', penalty='l1', tol=0.01)\n",
    "model1_fit = model1.fit(x_train_df, y_train_array)\n",
    "model1_selects = SelectFromModel(model1_fit, prefit=True)\n",
    "\"\"\"x_train_selected_df = model1_selects.transform(x_train_df)\"\"\"\n",
    "\n",
    "\"\"\" in lieu of commented-out transform method above, can use this method to explicitly define columns to keep \"\"\"\n",
    "x_train_selected_df = x_train_df[x_train_df.columns[model1_selects.get_support()]]\n",
    "x_test_selected_df  = x_test_df[x_test_df.columns[model1_selects.get_support()]]\n",
    "\n",
    "coefficients = pd.DataFrame(model1_fit.coef_)\n",
    "coefficients = np.transpose(coefficients[coefficients.columns[model1_selects.get_support()]])\n",
    "coefficients = coefficients.reset_index(drop=True)\n",
    "\n",
    "coefficients_match = pd.concat([pd.DataFrame(x_train_selected_df.columns),coefficients], axis = 1)\n",
    "\n",
    "coefficients.shape "
   ]
  },
  {
   "cell_type": "code",
   "execution_count": 16,
   "metadata": {},
   "outputs": [
    {
     "name": "stdout",
     "output_type": "stream",
     "text": [
      " \n",
      "Coefficients for selected variables\n"
     ]
    },
    {
     "data": {
      "text/html": [
       "<div>\n",
       "<style scoped>\n",
       "    .dataframe tbody tr th:only-of-type {\n",
       "        vertical-align: middle;\n",
       "    }\n",
       "\n",
       "    .dataframe tbody tr th {\n",
       "        vertical-align: top;\n",
       "    }\n",
       "\n",
       "    .dataframe thead th {\n",
       "        text-align: right;\n",
       "    }\n",
       "</style>\n",
       "<table border=\"1\" class=\"dataframe\">\n",
       "  <thead>\n",
       "    <tr style=\"text-align: right;\">\n",
       "      <th></th>\n",
       "      <th>0</th>\n",
       "      <th>0</th>\n",
       "    </tr>\n",
       "  </thead>\n",
       "  <tbody>\n",
       "    <tr>\n",
       "      <td>0</td>\n",
       "      <td>emailable</td>\n",
       "      <td>-4.57e-02</td>\n",
       "    </tr>\n",
       "    <tr>\n",
       "      <td>1</td>\n",
       "      <td>scheduled_purchase_flg</td>\n",
       "      <td>-3.58e+00</td>\n",
       "    </tr>\n",
       "    <tr>\n",
       "      <td>2</td>\n",
       "      <td>months_since_last_trans</td>\n",
       "      <td>4.29e-01</td>\n",
       "    </tr>\n",
       "    <tr>\n",
       "      <td>3</td>\n",
       "      <td>months_since_first_trans</td>\n",
       "      <td>-5.19e-03</td>\n",
       "    </tr>\n",
       "    <tr>\n",
       "      <td>4</td>\n",
       "      <td>purch_avg_interval</td>\n",
       "      <td>7.34e-03</td>\n",
       "    </tr>\n",
       "    <tr>\n",
       "      <td>5</td>\n",
       "      <td>mail_cnt_36mo</td>\n",
       "      <td>-1.19e-02</td>\n",
       "    </tr>\n",
       "    <tr>\n",
       "      <td>6</td>\n",
       "      <td>call_in_mo_36mo</td>\n",
       "      <td>-1.21e-03</td>\n",
       "    </tr>\n",
       "    <tr>\n",
       "      <td>7</td>\n",
       "      <td>call_out_mo_36mo</td>\n",
       "      <td>-4.66e-02</td>\n",
       "    </tr>\n",
       "    <tr>\n",
       "      <td>8</td>\n",
       "      <td>log_purch_amt_36mo</td>\n",
       "      <td>-2.32e-02</td>\n",
       "    </tr>\n",
       "    <tr>\n",
       "      <td>9</td>\n",
       "      <td>log_purch_amt_life</td>\n",
       "      <td>-4.41e-02</td>\n",
       "    </tr>\n",
       "    <tr>\n",
       "      <td>10</td>\n",
       "      <td>log_resp_cnt_36mo</td>\n",
       "      <td>-1.26e-01</td>\n",
       "    </tr>\n",
       "    <tr>\n",
       "      <td>11</td>\n",
       "      <td>perc_purch_ck_36mo</td>\n",
       "      <td>-7.94e-01</td>\n",
       "    </tr>\n",
       "    <tr>\n",
       "      <td>12</td>\n",
       "      <td>perc_purch_et_36mo</td>\n",
       "      <td>4.53e-02</td>\n",
       "    </tr>\n",
       "    <tr>\n",
       "      <td>13</td>\n",
       "      <td>margin_Y_neg_1</td>\n",
       "      <td>-2.65e-05</td>\n",
       "    </tr>\n",
       "    <tr>\n",
       "      <td>14</td>\n",
       "      <td>margin_Y_neg_2</td>\n",
       "      <td>2.57e-05</td>\n",
       "    </tr>\n",
       "    <tr>\n",
       "      <td>15</td>\n",
       "      <td>margin_3yr_avg</td>\n",
       "      <td>-1.34e-05</td>\n",
       "    </tr>\n",
       "    <tr>\n",
       "      <td>16</td>\n",
       "      <td>log_margin_Y_neg_1</td>\n",
       "      <td>-8.42e-02</td>\n",
       "    </tr>\n",
       "    <tr>\n",
       "      <td>17</td>\n",
       "      <td>log_margin_Y_neg_2</td>\n",
       "      <td>-7.74e-02</td>\n",
       "    </tr>\n",
       "    <tr>\n",
       "      <td>18</td>\n",
       "      <td>log_margin_Y_neg_3</td>\n",
       "      <td>-2.74e-02</td>\n",
       "    </tr>\n",
       "    <tr>\n",
       "      <td>19</td>\n",
       "      <td>log_margin_3yr_avg</td>\n",
       "      <td>-4.01e-03</td>\n",
       "    </tr>\n",
       "    <tr>\n",
       "      <td>20</td>\n",
       "      <td>tier_prev_xxx</td>\n",
       "      <td>1.15e-01</td>\n",
       "    </tr>\n",
       "  </tbody>\n",
       "</table>\n",
       "</div>"
      ],
      "text/plain": [
       "                           0         0\n",
       "0                  emailable -4.57e-02\n",
       "1     scheduled_purchase_flg -3.58e+00\n",
       "2    months_since_last_trans  4.29e-01\n",
       "3   months_since_first_trans -5.19e-03\n",
       "4         purch_avg_interval  7.34e-03\n",
       "5              mail_cnt_36mo -1.19e-02\n",
       "6            call_in_mo_36mo -1.21e-03\n",
       "7           call_out_mo_36mo -4.66e-02\n",
       "8         log_purch_amt_36mo -2.32e-02\n",
       "9         log_purch_amt_life -4.41e-02\n",
       "10         log_resp_cnt_36mo -1.26e-01\n",
       "11        perc_purch_ck_36mo -7.94e-01\n",
       "12        perc_purch_et_36mo  4.53e-02\n",
       "13            margin_Y_neg_1 -2.65e-05\n",
       "14            margin_Y_neg_2  2.57e-05\n",
       "15            margin_3yr_avg -1.34e-05\n",
       "16        log_margin_Y_neg_1 -8.42e-02\n",
       "17        log_margin_Y_neg_2 -7.74e-02\n",
       "18        log_margin_Y_neg_3 -2.74e-02\n",
       "19        log_margin_3yr_avg -4.01e-03\n",
       "20             tier_prev_xxx  1.15e-01"
      ]
     },
     "execution_count": 16,
     "metadata": {},
     "output_type": "execute_result"
    }
   ],
   "source": [
    "print(\" \") \n",
    "print(\"Coefficients for selected variables\")\n",
    "coefficients_match.head(40)"
   ]
  },
  {
   "cell_type": "markdown",
   "metadata": {},
   "source": [
    "## Need to introduce variable reduction that addresses multicolinearity:"
   ]
  },
  {
   "cell_type": "code",
   "execution_count": 17,
   "metadata": {},
   "outputs": [
    {
     "data": {
      "text/plain": [
       "(51368, 21)"
      ]
     },
     "execution_count": 17,
     "metadata": {},
     "output_type": "execute_result"
    }
   ],
   "source": [
    "x_train_selected_df.shape"
   ]
  },
  {
   "cell_type": "code",
   "execution_count": 18,
   "metadata": {},
   "outputs": [
    {
     "name": "stdout",
     "output_type": "stream",
     "text": [
      "dropping 'log_margin_3yr_avg' at index: 19\n",
      "dropping 'log_margin_Y_neg_2' at index: 17\n",
      "dropping 'log_margin_Y_neg_3' at index: 17\n",
      "dropping 'log_purch_amt_life' at index: 9\n",
      "dropping 'log_margin_Y_neg_1' at index: 15\n",
      "dropping 'log_purch_amt_36mo' at index: 8\n",
      "dropping 'margin_3yr_avg' at index: 13\n",
      "Remaining variables:\n",
      "Index(['emailable', 'scheduled_purchase_flg', 'months_since_last_trans', 'months_since_first_trans', 'purch_avg_interval', 'mail_cnt_36mo', 'call_in_mo_36mo', 'call_out_mo_36mo', 'log_resp_cnt_36mo', 'perc_purch_ck_36mo', 'perc_purch_et_36mo', 'margin_Y_neg_1', 'margin_Y_neg_2', 'tier_prev_xxx'], dtype='object')\n"
     ]
    },
    {
     "data": {
      "text/plain": [
       "(51368, 14)"
      ]
     },
     "execution_count": 18,
     "metadata": {},
     "output_type": "execute_result"
    }
   ],
   "source": [
    "from statsmodels.stats.outliers_influence import variance_inflation_factor    \n",
    "\n",
    "def calculate_vif_(X, thresh=10):\n",
    "    cols = X.columns\n",
    "    variables = np.arange(X.shape[1])\n",
    "    dropped=True\n",
    "    while dropped:\n",
    "        c = X[cols[variables]].values\n",
    "        vif = [variance_inflation_factor(c, ix) for ix in np.arange(c.shape[1])]\n",
    "        maxloc = vif.index(max(vif))\n",
    "        if max(vif) > thresh:\n",
    "            print('dropping \\'' + X[cols[variables]].columns[maxloc] + '\\' at index: ' + str(maxloc))\n",
    "            variables = np.delete(variables, maxloc)\n",
    "        else:\n",
    "            dropped=False\n",
    "    print('Remaining variables:')\n",
    "    print(X.columns[variables])        \n",
    "        \n",
    "    return X.iloc[:, variables]\n",
    "\n",
    "x_train_selected_df=calculate_vif_(x_train_selected_df, 10.0)\n",
    "        \n",
    "x_train_selected_df.shape"
   ]
  },
  {
   "cell_type": "markdown",
   "metadata": {},
   "source": [
    "## Reducing test set to match train set."
   ]
  },
  {
   "cell_type": "code",
   "execution_count": 19,
   "metadata": {},
   "outputs": [
    {
     "name": "stdout",
     "output_type": "stream",
     "text": [
      "Remaining variables in test set:\n",
      "Index(['emailable', 'scheduled_purchase_flg', 'months_since_last_trans', 'months_since_first_trans', 'purch_avg_interval', 'mail_cnt_36mo', 'call_in_mo_36mo', 'call_out_mo_36mo', 'log_resp_cnt_36mo', 'perc_purch_ck_36mo', 'perc_purch_et_36mo', 'margin_Y_neg_1', 'margin_Y_neg_2', 'tier_prev_xxx'], dtype='object')\n"
     ]
    },
    {
     "data": {
      "text/plain": [
       "(22016, 14)"
      ]
     },
     "execution_count": 19,
     "metadata": {},
     "output_type": "execute_result"
    }
   ],
   "source": [
    "\"\"\" reducing the test set to have the same columns as the training set \"\"\"\n",
    "\n",
    "x_test_selected_df=x_test_selected_df[x_train_selected_df.columns]\n",
    "print('Remaining variables in test set:')\n",
    "print(x_test_selected_df.columns)\n",
    "        \n",
    "x_test_selected_df.shape"
   ]
  },
  {
   "cell_type": "markdown",
   "metadata": {},
   "source": [
    "## Using the statsmodels package to see \"friendlier\" looking Logistic output:"
   ]
  },
  {
   "cell_type": "code",
   "execution_count": 20,
   "metadata": {},
   "outputs": [
    {
     "name": "stderr",
     "output_type": "stream",
     "text": [
      "/usr/local/lib/python3.7/site-packages/numpy/core/fromnumeric.py:2495: FutureWarning: Method .ptp is deprecated and will be removed in a future version. Use numpy.ptp instead.\n",
      "  return ptp(axis=axis, out=out, **kwargs)\n"
     ]
    },
    {
     "name": "stdout",
     "output_type": "stream",
     "text": [
      "Optimization terminated successfully.\n",
      "         Current function value: 0.318116\n",
      "         Iterations 9\n",
      " \n",
      "Logistic model with selected variables\n",
      " \n",
      "                             Results: Logit\n",
      "=========================================================================\n",
      "Model:                Logit                 Pseudo R-squared:  0.447     \n",
      "Dependent Variable:   churn_year_plus1_ind  AIC:               32711.9891\n",
      "Date:                 2019-10-18 12:35      BIC:               32844.6907\n",
      "No. Observations:     51368                 Log-Likelihood:    -16341.   \n",
      "Df Model:             14                    LL-Null:           -29561.   \n",
      "Df Residuals:         51353                 LLR p-value:       0.0000    \n",
      "Converged:            1.0000                Scale:             1.0000    \n",
      "No. Iterations:       9.0000                                             \n",
      "-------------------------------------------------------------------------\n",
      "                          Coef.  Std.Err.    z     P>|z|   [0.025  0.975]\n",
      "-------------------------------------------------------------------------\n",
      "const                    -1.0648   0.0577 -18.4423 0.0000 -1.1779 -0.9516\n",
      "emailable                -0.1502   0.0297  -5.0530 0.0000 -0.2085 -0.0920\n",
      "scheduled_purchase_flg   -4.7087   0.1255 -37.5271 0.0000 -4.9546 -4.4628\n",
      "months_since_last_trans   0.4384   0.0053  82.9872 0.0000  0.4281  0.4488\n",
      "months_since_first_trans -0.0051   0.0003 -16.6227 0.0000 -0.0057 -0.0045\n",
      "purch_avg_interval        0.0078   0.0014   5.5702 0.0000  0.0050  0.0105\n",
      "mail_cnt_36mo            -0.0135   0.0017  -7.8980 0.0000 -0.0168 -0.0101\n",
      "call_in_mo_36mo          -0.0012   0.0003  -3.4422 0.0006 -0.0018 -0.0005\n",
      "call_out_mo_36mo         -0.0408   0.0081  -5.0588 0.0000 -0.0566 -0.0250\n",
      "log_resp_cnt_36mo        -0.1575   0.0476  -3.3084 0.0009 -0.2508 -0.0642\n",
      "perc_purch_ck_36mo       -0.9665   0.0414 -23.3293 0.0000 -1.0477 -0.8853\n",
      "perc_purch_et_36mo        0.4068   0.0692   5.8738 0.0000  0.2710  0.5425\n",
      "margin_Y_neg_1           -0.0000   0.0000  -1.9644 0.0495 -0.0001 -0.0000\n",
      "margin_Y_neg_2            0.0000   0.0000   1.4751 0.1402 -0.0000  0.0000\n",
      "tier_prev_xxx             0.2763   0.0362   7.6263 0.0000  0.2053  0.3473\n",
      "=========================================================================\n",
      "\n",
      "AIC:  32711.989118703546\n",
      "BIC:  32844.690679045656\n"
     ]
    }
   ],
   "source": [
    "\"\"\" for the statsmodels, need to add a constant to fit intercept \"\"\"\n",
    "\n",
    "x_train_selected_df = sm.add_constant(x_train_selected_df, has_constant='add')\n",
    "x_test_selected_df  = sm.add_constant(x_test_selected_df, has_constant='add')\n",
    "\n",
    "\"\"\" modeling with selected variables from steps above \"\"\"\n",
    "\n",
    "model = sm.Logit(y_train_df, x_train_selected_df)\n",
    "result = model.fit(maxiter=100)\n",
    "\n",
    "print(\" \") \n",
    "print(\"Logistic model with selected variables\")\n",
    "print(\" \") \n",
    "print(result.summary2())\n",
    "print('AIC: ', result.aic)\n",
    "print('BIC: ', result.bic)"
   ]
  },
  {
   "cell_type": "markdown",
   "metadata": {},
   "source": [
    "## Using the statsmodels Logit model to score the data and evaluate goodness-of-fit:"
   ]
  },
  {
   "cell_type": "code",
   "execution_count": 21,
   "metadata": {},
   "outputs": [
    {
     "name": "stdout",
     "output_type": "stream",
     "text": [
      "AROC train:  0.918643175855929\n",
      "AROC test:  0.9171448746319658\n",
      " \n",
      "MSE train: 0.09996287460607091\n",
      "MSE test: 0.10120351793059087\n",
      " \n",
      "testing that the joining process works. if so, these MSE should match the ones above.\n",
      "mean squared error train: 0.09996287460607091\n",
      "mean squared error testn: 0.10120351793059087\n"
     ]
    },
    {
     "data": {
      "text/plain": [
       "<matplotlib.axes._subplots.AxesSubplot at 0x11ffbc890>"
      ]
     },
     "execution_count": 21,
     "metadata": {},
     "output_type": "execute_result"
    },
    {
     "data": {
      "image/png": "[encoded data removed]",
      "text/plain": [
       "<Figure size 1080x1080 with 1 Axes>"
      ]
     },
     "metadata": {
      "needs_background": "light"
     },
     "output_type": "display_data"
    }
   ],
   "source": [
    "\"\"\" predicted values using the model \"\"\"\n",
    "\"\"\" using numpy copy to store result as an array \"\"\"\n",
    "\"\"\" manually adding a column header \"\"\"\n",
    "predict_train = pd.DataFrame(np.copy(result.predict(x_train_selected_df)), columns=[\"P_churn_year_plus1_ind\"])\n",
    "predict_test = pd.DataFrame(np.copy(result.predict(x_test_selected_df)), columns=[\"P_churn_year_plus1_ind\"])\n",
    "\n",
    "print ('AROC train: ', metrics.roc_auc_score(y_train_df, predict_train))\n",
    "print ('AROC test: ', metrics.roc_auc_score(y_test_df, predict_test))\n",
    "\n",
    "\"\"\" note that the index for the predicted values vector \"\"\"\n",
    "\"\"\" is reset, and thus complicates a join back with the original \"\"\"\n",
    "\"\"\" thus, reset the index on the original data, then join with predicted \"\"\"\n",
    "\"\"\" WARNING: you have to do the same, to join back with dataframe of regressors \"\"\"\n",
    "y_train_df = y_train_df.reset_index(drop=True)\n",
    "y_test_df = y_test_df.reset_index(drop=True)\n",
    "\n",
    "\"\"\" joining predicted and actuals \"\"\"\n",
    "\"\"\" NOTE:  for reference, for now...to be used more later to create complete \"\"\"\n",
    "\"\"\"     dataframe with all obs and inputs and outputs \"\"\"\n",
    "train_accounts = train_acct_IDs_df.reset_index(drop=True)\n",
    "pred_v_actual_train = y_train_df.join(predict_train)\n",
    "pred_v_actual_train = pred_v_actual_train.join(train_accounts)\n",
    "\n",
    "test_accounts = test_acct_IDs_df.reset_index(drop=True)\n",
    "pred_v_actual_test = y_test_df.join(predict_test)\n",
    "pred_v_actual_test = pred_v_actual_test.join(test_accounts)\n",
    "\n",
    "print(\" \") \n",
    "print(\"MSE train:\", mean_squared_error(y_train_df, predict_train))\n",
    "print(\"MSE test:\", mean_squared_error(y_test_df, predict_test))\n",
    "\n",
    "print(\" \") \n",
    "print(\"testing that the joining process works. if so, these MSE should match the ones above.\")\n",
    "print(\"mean squared error train:\" , (np.mean((pred_v_actual_train['churn_year_plus1_ind']-pred_v_actual_train['P_churn_year_plus1_ind'])**2)))\n",
    "print(\"mean squared error testn:\" , (np.mean((pred_v_actual_test['churn_year_plus1_ind']-pred_v_actual_test['P_churn_year_plus1_ind'])**2)))\n",
    "\n",
    "pred_v_actual_test.boxplot(column='P_churn_year_plus1_ind', by='churn_year_plus1_ind',figsize=(15,15))"
   ]
  },
  {
   "cell_type": "markdown",
   "metadata": {},
   "source": [
    "## Now to try a more advanced Machine Learning algorithm to see if we can get a better model.\n",
    "##    If you run this first with n_estimators=2000 (2000 iterations) you will see some degradation\n",
    "##    in the model performance on the test set.  After that, you can scale back the iterations to \n",
    "##    something like 500 and rerun."
   ]
  },
  {
   "cell_type": "code",
   "execution_count": 22,
   "metadata": {},
   "outputs": [
    {
     "name": "stdout",
     "output_type": "stream",
     "text": [
      "GB overall accuracy: 0.875499636627907\n",
      "AROC train:  0.950947420691022\n",
      "AROC test:  0.932915244742144\n",
      " \n",
      "MSE train: 0.07658585291018626\n",
      "MSE test: 0.09005181618331269\n",
      " \n",
      "testing that the joining process works. if so, these MSE should match the ones above.\n",
      "mean squared error train: 0.07658585291018626\n",
      "mean squared error test: 0.09005181618331269\n"
     ]
    },
    {
     "data": {
      "text/plain": [
       "Text(0, 0.5, 'AROC')"
      ]
     },
     "execution_count": 22,
     "metadata": {},
     "output_type": "execute_result"
    },
    {
     "data": {
      "image/png": "[encoded data removed]",
      "text/plain": [
       "<Figure size 1080x1080 with 1 Axes>"
      ]
     },
     "metadata": {
      "needs_background": "light"
     },
     "output_type": "display_data"
    },
    {
     "data": {
      "image/png": "[encoded data removed]",
      "text/plain": [
       "<Figure size 1080x1080 with 1 Axes>"
      ]
     },
     "metadata": {
      "needs_background": "light"
     },
     "output_type": "display_data"
    }
   ],
   "source": [
    "\"\"\" Gradient Boosting \"\"\"\n",
    "params = {'n_estimators': 2000, 'min_samples_split': 2,  'max_depth': 5, 'learning_rate': 0.01}\n",
    "model2 = GradientBoostingClassifier(**params)\n",
    "\n",
    "\"\"\" had to switch the order of X and Y for the fit to work with GradientBoosting \"\"\"\n",
    "result = model2.fit(x_train_selected_df, y_train_array)\n",
    "\n",
    "\"\"\" returns overall accuracy\"\"\"\n",
    "accuracy = model2.score(x_test_selected_df, y_test_df)\n",
    "print(\"GB overall accuracy:\", accuracy)\n",
    "\n",
    "\"\"\" predicted values using the model \"\"\"\n",
    "\"\"\" using numpy copy to store result as an array \"\"\"\n",
    "\"\"\" manually adding a column header \"\"\"\n",
    "predict_train = pd.DataFrame(np.copy(model2.predict_proba(x_train_selected_df)[:, 1]), columns=[\"P_churn_year_plus1_ind\"])\n",
    "predict_test = pd.DataFrame(np.copy(model2.predict_proba(x_test_selected_df)[:, 1]), columns=[\"P_churn_year_plus1_ind\"])\n",
    "\n",
    "print ('AROC train: ', metrics.roc_auc_score(y_train_df, predict_train))\n",
    "print ('AROC test: ', metrics.roc_auc_score(y_test_df, predict_test))\n",
    "\n",
    "\"\"\" note that the index for the predicted values vector \"\"\"\n",
    "\"\"\" is reset, and thus complicates a join back with the original \"\"\"\n",
    "\"\"\" thus, reset the index on the original data, then join with predicted \"\"\"\n",
    "\"\"\" WARNING: you have to do the same, to join back with dataframe of regressors \"\"\"\n",
    "y_train_df = y_train_df.reset_index(drop=True)\n",
    "y_test_df = y_test_df.reset_index(drop=True)\n",
    "\n",
    "train_accounts = train_acct_IDs_df.reset_index(drop=True)\n",
    "pred_v_actual_train = y_train_df.join(predict_train)\n",
    "pred_v_actual_train = pred_v_actual_train.join(train_accounts)\n",
    "\n",
    "\n",
    "test_accounts = test_acct_IDs_df.reset_index(drop=True)\n",
    "pred_v_actual_test = y_test_df.join(predict_test)\n",
    "pred_v_actual_test = pred_v_actual_test.join(test_accounts)\n",
    "\n",
    "print(\" \") \n",
    "print(\"MSE train:\", mean_squared_error(y_train_df, predict_train))\n",
    "print(\"MSE test:\", mean_squared_error(y_test_df, predict_test))\n",
    "\n",
    "print(\" \") \n",
    "print(\"testing that the joining process works. if so, these MSE should match the ones above.\")\n",
    "print(\"mean squared error train:\" , (np.mean((pred_v_actual_train['churn_year_plus1_ind']-pred_v_actual_train['P_churn_year_plus1_ind'])**2)))\n",
    "print(\"mean squared error test:\" , (np.mean((pred_v_actual_test['churn_year_plus1_ind']-pred_v_actual_test['P_churn_year_plus1_ind'])**2)))\n",
    "\n",
    "\n",
    "pred_v_actual_test.boxplot(column='P_churn_year_plus1_ind', by='churn_year_plus1_ind',figsize=(15,15))\n",
    "\n",
    "\"\"\" plotting AROC with each iteration of the Gradient Boosting algorithm \"\"\"\n",
    "\n",
    "\"\"\" converting Y dataframes into arrays as needed for logic below \"\"\"\n",
    "y_traint_array = y_train_df.values\n",
    "y_test_array = y_test_df.values\n",
    "\n",
    "test_AROC  = np.zeros((params['n_estimators'],), dtype=np.float64)\n",
    "train_AROC = np.zeros((params['n_estimators'],), dtype=np.float64)\n",
    "\n",
    "for i, y_pred in enumerate(model2.staged_predict_proba(x_test_selected_df)):\n",
    "    test_AROC[i] = metrics.roc_auc_score(y_test_array, y_pred[:, 1])\n",
    "\n",
    "for i, y_pred in enumerate(model2.staged_predict_proba(x_train_selected_df)):\n",
    "    train_AROC[i] = metrics.roc_auc_score(y_train_array, y_pred[:, 1])\n",
    "\n",
    "plt.figure(figsize=(15,15))\n",
    "plt.subplot(1, 2, 1)\n",
    "plt.title('AROC by iteration')\n",
    "plt.plot(np.arange(params['n_estimators']) + 1, train_AROC, 'b-',\n",
    "         label='Training Set AROC')\n",
    "plt.plot(np.arange(params['n_estimators']) + 1, test_AROC, 'r-',\n",
    "         label='Test Set AROC')\n",
    "plt.legend(loc='upper right')\n",
    "plt.xlabel('Boosting Iterations')\n",
    "plt.ylabel('AROC')\n"
   ]
  },
  {
   "cell_type": "markdown",
   "metadata": {},
   "source": [
    "## Feature Importance for the Gradient Boosting Model:"
   ]
  },
  {
   "cell_type": "code",
   "execution_count": 25,
   "metadata": {},
   "outputs": [
    {
     "data": {
      "image/png": "[encoded data removed]",
      "text/plain": [
       "<Figure size 3600x3600 with 1 Axes>"
      ]
     },
     "metadata": {
      "needs_background": "light"
     },
     "output_type": "display_data"
    }
   ],
   "source": [
    "feature_importance = model2.feature_importances_\n",
    "\"\"\" make importances relative to max importance \"\"\"\n",
    "feature_importance = 100.0 * (feature_importance / feature_importance.max())\n",
    "sorted_idx = np.argsort(feature_importance)\n",
    "pos = np.arange(sorted_idx.shape[0]) + .5\n",
    "plt.figure(figsize=(50,50))\n",
    "plt.subplot(1, 2, 2)\n",
    "plt.barh(pos, feature_importance[sorted_idx], align='center')\n",
    "plt.yticks(pos, x_train_selected_df.columns[sorted_idx])\n",
    "plt.xlabel('Relative Importance')\n",
    "plt.title('Variable Importance')\n",
    "plt.show()"
   ]
  },
  {
   "cell_type": "markdown",
   "metadata": {},
   "source": [
    "## Appending the train and test sets, and keeping the acct_IDs and predicted churn probabilities"
   ]
  },
  {
   "cell_type": "code",
   "execution_count": 26,
   "metadata": {},
   "outputs": [
    {
     "data": {
      "text/plain": [
       "(73384, 2)"
      ]
     },
     "execution_count": 26,
     "metadata": {},
     "output_type": "execute_result"
    }
   ],
   "source": [
    "\"\"\" append together train and test predicted values, keeping only acct ID and predicted values \"\"\"\n",
    "\n",
    "pred_v_actual_train=pred_v_actual_train.append(pred_v_actual_test, ignore_index=True)\n",
    "\n",
    "pred_v_actual_train = pred_v_actual_train.drop(['churn_year_plus1_ind'\n",
    "                             ],axis=1)\n",
    "\n",
    "\"\"\" and then save predicted values by acct ID to csv \"\"\"\n",
    "\n",
    "pred_v_actual_train.to_csv('~/Documents/fall2019/5753/churn_scores.csv',index=False)\n",
    "pred_v_actual_train.shape"
   ]
  },
  {
   "cell_type": "markdown",
   "metadata": {},
   "source": [
    "## (back to lecture mode)"
   ]
  }
 ],
 "metadata": {
  "kernelspec": {
   "display_name": "Python 3",
   "language": "python",
   "name": "python3"
  },
  "language_info": {
   "codemirror_mode": {
    "name": "ipython",
    "version": 3
   },
   "file_extension": ".py",
   "mimetype": "text/x-python",
   "name": "python",
   "nbconvert_exporter": "python",
   "pygments_lexer": "ipython3",
   "version": "3.7.4"
  }
 },
 "nbformat": 4,
 "nbformat_minor": 2
}
