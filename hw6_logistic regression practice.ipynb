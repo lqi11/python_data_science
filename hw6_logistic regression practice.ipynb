{
 "cells": [
  {
   "cell_type": "code",
   "execution_count": 1,
   "metadata": {},
   "outputs": [],
   "source": [
    "import pandas as pd\n",
    "import numpy as np\n",
    "from sklearn import preprocessing\n",
    "import matplotlib.pyplot as plt \n",
    "plt.rc(\"font\", size=14) # rc stand for something like run config\n",
    "from sklearn.linear_model import LogisticRegression\n",
    "from sklearn.model_selection import train_test_split\n",
    "import seaborn as sns\n",
    "sns.set(style=\"white\") #seaborn is package for visualization\n",
    "sns.set(style=\"whitegrid\", color_codes=True)"
   ]
  },
  {
   "cell_type": "code",
   "execution_count": 2,
   "metadata": {},
   "outputs": [
    {
     "data": {
      "text/html": [
       "<div>\n",
       "<style scoped>\n",
       "    .dataframe tbody tr th:only-of-type {\n",
       "        vertical-align: middle;\n",
       "    }\n",
       "\n",
       "    .dataframe tbody tr th {\n",
       "        vertical-align: top;\n",
       "    }\n",
       "\n",
       "    .dataframe thead th {\n",
       "        text-align: right;\n",
       "    }\n",
       "</style>\n",
       "<table border=\"1\" class=\"dataframe\">\n",
       "  <thead>\n",
       "    <tr style=\"text-align: right;\">\n",
       "      <th></th>\n",
       "      <th>avg_income</th>\n",
       "      <th>CAMPUS_VISIT</th>\n",
       "      <th>distance</th>\n",
       "      <th>hscrat</th>\n",
       "      <th>init_span</th>\n",
       "      <th>int1rat</th>\n",
       "      <th>int2rat</th>\n",
       "      <th>interest</th>\n",
       "      <th>mailq</th>\n",
       "      <th>premiere</th>\n",
       "      <th>REFERRAL_CNTCTS</th>\n",
       "      <th>satscore</th>\n",
       "      <th>SELF_INIT_CNTCTS</th>\n",
       "      <th>sex</th>\n",
       "      <th>SOLICITED_CNTCTS</th>\n",
       "      <th>telecq</th>\n",
       "      <th>TOTAL_CONTACTS</th>\n",
       "      <th>TRAVEL_INIT_CNTCTS</th>\n",
       "    </tr>\n",
       "  </thead>\n",
       "  <tbody>\n",
       "    <tr>\n",
       "      <td>count</td>\n",
       "      <td>4397.000000</td>\n",
       "      <td>5160.000000</td>\n",
       "      <td>4489.000000</td>\n",
       "      <td>5160.000000</td>\n",
       "      <td>5160.000000</td>\n",
       "      <td>5160.000000</td>\n",
       "      <td>5160.000000</td>\n",
       "      <td>5160.000000</td>\n",
       "      <td>5160.000000</td>\n",
       "      <td>5160.000000</td>\n",
       "      <td>5160.000000</td>\n",
       "      <td>3273.000000</td>\n",
       "      <td>5160.000000</td>\n",
       "      <td>5033.000000</td>\n",
       "      <td>5160.000000</td>\n",
       "      <td>2105.000000</td>\n",
       "      <td>5160.000000</td>\n",
       "      <td>5160.000000</td>\n",
       "    </tr>\n",
       "    <tr>\n",
       "      <td>mean</td>\n",
       "      <td>53494.747100</td>\n",
       "      <td>0.150194</td>\n",
       "      <td>318.016140</td>\n",
       "      <td>0.088590</td>\n",
       "      <td>19.215891</td>\n",
       "      <td>0.045520</td>\n",
       "      <td>0.051802</td>\n",
       "      <td>0.172093</td>\n",
       "      <td>3.893798</td>\n",
       "      <td>0.212984</td>\n",
       "      <td>0.064147</td>\n",
       "      <td>1149.364497</td>\n",
       "      <td>3.335659</td>\n",
       "      <td>0.617524</td>\n",
       "      <td>0.582946</td>\n",
       "      <td>2.141568</td>\n",
       "      <td>4.429651</td>\n",
       "      <td>0.446899</td>\n",
       "    </tr>\n",
       "    <tr>\n",
       "      <td>std</td>\n",
       "      <td>23083.609393</td>\n",
       "      <td>0.374771</td>\n",
       "      <td>370.781848</td>\n",
       "      <td>0.145744</td>\n",
       "      <td>9.177806</td>\n",
       "      <td>0.035887</td>\n",
       "      <td>0.039164</td>\n",
       "      <td>0.411876</td>\n",
       "      <td>1.600167</td>\n",
       "      <td>0.409456</td>\n",
       "      <td>0.288625</td>\n",
       "      <td>151.491442</td>\n",
       "      <td>3.098895</td>\n",
       "      <td>0.486040</td>\n",
       "      <td>0.761358</td>\n",
       "      <td>0.807467</td>\n",
       "      <td>3.480081</td>\n",
       "      <td>0.670228</td>\n",
       "    </tr>\n",
       "    <tr>\n",
       "      <td>min</td>\n",
       "      <td>9783.000000</td>\n",
       "      <td>0.000000</td>\n",
       "      <td>0.790555</td>\n",
       "      <td>0.000000</td>\n",
       "      <td>-216.000000</td>\n",
       "      <td>0.000000</td>\n",
       "      <td>0.000000</td>\n",
       "      <td>0.000000</td>\n",
       "      <td>1.000000</td>\n",
       "      <td>0.000000</td>\n",
       "      <td>0.000000</td>\n",
       "      <td>440.000000</td>\n",
       "      <td>0.000000</td>\n",
       "      <td>0.000000</td>\n",
       "      <td>0.000000</td>\n",
       "      <td>1.000000</td>\n",
       "      <td>1.000000</td>\n",
       "      <td>0.000000</td>\n",
       "    </tr>\n",
       "    <tr>\n",
       "      <td>25%</td>\n",
       "      <td>35568.000000</td>\n",
       "      <td>0.000000</td>\n",
       "      <td>102.461358</td>\n",
       "      <td>0.023529</td>\n",
       "      <td>12.000000</td>\n",
       "      <td>0.020906</td>\n",
       "      <td>0.020380</td>\n",
       "      <td>0.000000</td>\n",
       "      <td>2.000000</td>\n",
       "      <td>0.000000</td>\n",
       "      <td>0.000000</td>\n",
       "      <td>1050.000000</td>\n",
       "      <td>1.000000</td>\n",
       "      <td>0.000000</td>\n",
       "      <td>0.000000</td>\n",
       "      <td>2.000000</td>\n",
       "      <td>1.000000</td>\n",
       "      <td>0.000000</td>\n",
       "    </tr>\n",
       "    <tr>\n",
       "      <td>50%</td>\n",
       "      <td>48627.000000</td>\n",
       "      <td>0.000000</td>\n",
       "      <td>160.271705</td>\n",
       "      <td>0.052632</td>\n",
       "      <td>18.000000</td>\n",
       "      <td>0.049270</td>\n",
       "      <td>0.056670</td>\n",
       "      <td>0.000000</td>\n",
       "      <td>5.000000</td>\n",
       "      <td>0.000000</td>\n",
       "      <td>0.000000</td>\n",
       "      <td>1150.000000</td>\n",
       "      <td>3.000000</td>\n",
       "      <td>1.000000</td>\n",
       "      <td>0.000000</td>\n",
       "      <td>2.000000</td>\n",
       "      <td>3.000000</td>\n",
       "      <td>0.000000</td>\n",
       "    </tr>\n",
       "    <tr>\n",
       "      <td>75%</td>\n",
       "      <td>68458.000000</td>\n",
       "      <td>0.000000</td>\n",
       "      <td>372.547430</td>\n",
       "      <td>0.095238</td>\n",
       "      <td>23.000000</td>\n",
       "      <td>0.049270</td>\n",
       "      <td>0.056670</td>\n",
       "      <td>0.000000</td>\n",
       "      <td>5.000000</td>\n",
       "      <td>0.000000</td>\n",
       "      <td>0.000000</td>\n",
       "      <td>1250.000000</td>\n",
       "      <td>5.000000</td>\n",
       "      <td>1.000000</td>\n",
       "      <td>1.000000</td>\n",
       "      <td>2.000000</td>\n",
       "      <td>7.000000</td>\n",
       "      <td>1.000000</td>\n",
       "    </tr>\n",
       "    <tr>\n",
       "      <td>max</td>\n",
       "      <td>200001.000000</td>\n",
       "      <td>2.000000</td>\n",
       "      <td>3882.192379</td>\n",
       "      <td>1.000000</td>\n",
       "      <td>72.000000</td>\n",
       "      <td>1.000000</td>\n",
       "      <td>1.000000</td>\n",
       "      <td>3.000000</td>\n",
       "      <td>5.000000</td>\n",
       "      <td>1.000000</td>\n",
       "      <td>5.000000</td>\n",
       "      <td>1600.000000</td>\n",
       "      <td>21.000000</td>\n",
       "      <td>1.000000</td>\n",
       "      <td>9.000000</td>\n",
       "      <td>4.000000</td>\n",
       "      <td>28.000000</td>\n",
       "      <td>5.000000</td>\n",
       "    </tr>\n",
       "  </tbody>\n",
       "</table>\n",
       "</div>"
      ],
      "text/plain": [
       "          avg_income  CAMPUS_VISIT     distance       hscrat    init_span  \\\n",
       "count    4397.000000   5160.000000  4489.000000  5160.000000  5160.000000   \n",
       "mean    53494.747100      0.150194   318.016140     0.088590    19.215891   \n",
       "std     23083.609393      0.374771   370.781848     0.145744     9.177806   \n",
       "min      9783.000000      0.000000     0.790555     0.000000  -216.000000   \n",
       "25%     35568.000000      0.000000   102.461358     0.023529    12.000000   \n",
       "50%     48627.000000      0.000000   160.271705     0.052632    18.000000   \n",
       "75%     68458.000000      0.000000   372.547430     0.095238    23.000000   \n",
       "max    200001.000000      2.000000  3882.192379     1.000000    72.000000   \n",
       "\n",
       "           int1rat      int2rat     interest        mailq     premiere  \\\n",
       "count  5160.000000  5160.000000  5160.000000  5160.000000  5160.000000   \n",
       "mean      0.045520     0.051802     0.172093     3.893798     0.212984   \n",
       "std       0.035887     0.039164     0.411876     1.600167     0.409456   \n",
       "min       0.000000     0.000000     0.000000     1.000000     0.000000   \n",
       "25%       0.020906     0.020380     0.000000     2.000000     0.000000   \n",
       "50%       0.049270     0.056670     0.000000     5.000000     0.000000   \n",
       "75%       0.049270     0.056670     0.000000     5.000000     0.000000   \n",
       "max       1.000000     1.000000     3.000000     5.000000     1.000000   \n",
       "\n",
       "       REFERRAL_CNTCTS     satscore  SELF_INIT_CNTCTS          sex  \\\n",
       "count      5160.000000  3273.000000       5160.000000  5033.000000   \n",
       "mean          0.064147  1149.364497          3.335659     0.617524   \n",
       "std           0.288625   151.491442          3.098895     0.486040   \n",
       "min           0.000000   440.000000          0.000000     0.000000   \n",
       "25%           0.000000  1050.000000          1.000000     0.000000   \n",
       "50%           0.000000  1150.000000          3.000000     1.000000   \n",
       "75%           0.000000  1250.000000          5.000000     1.000000   \n",
       "max           5.000000  1600.000000         21.000000     1.000000   \n",
       "\n",
       "       SOLICITED_CNTCTS       telecq  TOTAL_CONTACTS  TRAVEL_INIT_CNTCTS  \n",
       "count       5160.000000  2105.000000     5160.000000         5160.000000  \n",
       "mean           0.582946     2.141568        4.429651            0.446899  \n",
       "std            0.761358     0.807467        3.480081            0.670228  \n",
       "min            0.000000     1.000000        1.000000            0.000000  \n",
       "25%            0.000000     2.000000        1.000000            0.000000  \n",
       "50%            0.000000     2.000000        3.000000            0.000000  \n",
       "75%            1.000000     2.000000        7.000000            1.000000  \n",
       "max            9.000000     4.000000       28.000000            5.000000  "
      ]
     },
     "execution_count": 2,
     "metadata": {},
     "output_type": "execute_result"
    }
   ],
   "source": [
    "data = pd.read_sas(\"~/Documents/fall2019/5753/enrollment_data.sas7bdat\",format='sas7bdat', encoding = 'latin-1')\n",
    "data.describe()"
   ]
  },
  {
   "cell_type": "code",
   "execution_count": 3,
   "metadata": {},
   "outputs": [
    {
     "name": "stdout",
     "output_type": "stream",
     "text": [
      "['avg_income' 'CAMPUS_VISIT' 'CONTACT_CODE1' 'Contact_Date'\n",
      " 'Contact_Month' 'Contact_Year' 'distance' 'Target_Enroll' 'ETHNICITY'\n",
      " 'hscrat' 'ID' 'init_span' 'Instate' 'int1rat' 'int2rat' 'interest'\n",
      " 'IRSCHOOL' 'LEVEL_YEAR' 'mailq' 'premiere' 'REFERRAL_CNTCTS' 'satscore'\n",
      " 'SELF_INIT_CNTCTS' 'sex' 'SOLICITED_CNTCTS' 'telecq' 'TERRITORY'\n",
      " 'TOTAL_CONTACTS' 'TRAVEL_INIT_CNTCTS']\n"
     ]
    }
   ],
   "source": [
    "print(data.columns.values)"
   ]
  },
  {
   "cell_type": "markdown",
   "metadata": {},
   "source": [
    "# descriptive analysis\n",
    "nominal data_drop: \n",
    "'Contact_Date'\n",
    "'Contact_Month' 'Contact_Year' \n",
    "get dummy:\n",
    "instate premiere  sex "
   ]
  },
  {
   "cell_type": "code",
   "execution_count": 26,
   "metadata": {},
   "outputs": [
    {
     "data": {
      "text/plain": [
       "FR04    5160\n",
       "Name: LEVEL_YEAR, dtype: int64"
      ]
     },
     "execution_count": 26,
     "metadata": {},
     "output_type": "execute_result"
    }
   ],
   "source": [
    "data['LEVEL_YEAR'].value_counts()"
   ]
  },
  {
   "cell_type": "code",
   "execution_count": 13,
   "metadata": {},
   "outputs": [],
   "source": [
    "data = data.drop(['IRSCHOOL'], axis = 1)"
   ]
  },
  {
   "cell_type": "code",
   "execution_count": 14,
   "metadata": {},
   "outputs": [
    {
     "data": {
      "text/plain": [
       "<matplotlib.axes._subplots.AxesSubplot at 0x11c2e77d0>"
      ]
     },
     "execution_count": 14,
     "metadata": {},
     "output_type": "execute_result"
    },
    {
     "data": {
      "image/png": "[encoded data removed]",
      "text/plain": [
       "<Figure size 432x288 with 1 Axes>"
      ]
     },
     "metadata": {
      "needs_background": "light"
     },
     "output_type": "display_data"
    }
   ],
   "source": [
    "sns.countplot(x='CAMPUS_VISIT', data = data, palette = 'hls')"
   ]
  },
  {
   "cell_type": "code",
   "execution_count": 20,
   "metadata": {},
   "outputs": [
    {
     "data": {
      "text/plain": [
       "<matplotlib.axes._subplots.AxesSubplot at 0x11ff453d0>"
      ]
     },
     "execution_count": 20,
     "metadata": {},
     "output_type": "execute_result"
    },
    {
     "data": {
      "image/png": "[encoded data removed]",
      "text/plain": [
       "<Figure size 432x288 with 1 Axes>"
      ]
     },
     "metadata": {
      "needs_background": "light"
     },
     "output_type": "display_data"
    }
   ],
   "source": [
    "sns.countplot(x='ETHNICITY', data = data, palette = 'hls')"
   ]
  },
  {
   "cell_type": "code",
   "execution_count": 23,
   "metadata": {},
   "outputs": [
    {
     "data": {
      "text/plain": [
       "<matplotlib.axes._subplots.AxesSubplot at 0x121269290>"
      ]
     },
     "execution_count": 23,
     "metadata": {},
     "output_type": "execute_result"
    },
    {
     "data": {
      "image/png": "[encoded data removed]",
      "text/plain": [
       "<Figure size 432x288 with 1 Axes>"
      ]
     },
     "metadata": {
      "needs_background": "light"
     },
     "output_type": "display_data"
    }
   ],
   "source": [
    "sns.countplot(x='Instate', data = data, palette = 'hls')"
   ]
  },
  {
   "cell_type": "code",
   "execution_count": 25,
   "metadata": {},
   "outputs": [
    {
     "data": {
      "text/plain": [
       "<matplotlib.axes._subplots.AxesSubplot at 0x1218f74d0>"
      ]
     },
     "execution_count": 25,
     "metadata": {},
     "output_type": "execute_result"
    },
    {
     "data": {
      "image/png": "[encoded data removed]",
      "text/plain": [
       "<Figure size 432x288 with 1 Axes>"
      ]
     },
     "metadata": {
      "needs_background": "light"
     },
     "output_type": "display_data"
    }
   ],
   "source": [
    "sns.countplot(x='interest', data = data, palette = 'hls')"
   ]
  },
  {
   "cell_type": "code",
   "execution_count": 27,
   "metadata": {},
   "outputs": [],
   "source": [
    "data = data.drop(['LEVEL_YEAR'], axis = 1)"
   ]
  },
  {
   "cell_type": "code",
   "execution_count": 28,
   "metadata": {},
   "outputs": [
    {
     "data": {
      "text/plain": [
       "<matplotlib.axes._subplots.AxesSubplot at 0x1218f7e10>"
      ]
     },
     "execution_count": 28,
     "metadata": {},
     "output_type": "execute_result"
    },
    {
     "data": {
      "image/png": "[encoded data removed]",
      "text/plain": [
       "<Figure size 432x288 with 1 Axes>"
      ]
     },
     "metadata": {
      "needs_background": "light"
     },
     "output_type": "display_data"
    }
   ],
   "source": [
    "sns.countplot(x='premiere', data = data, palette = 'hls')"
   ]
  },
  {
   "cell_type": "code",
   "execution_count": 31,
   "metadata": {},
   "outputs": [
    {
     "data": {
      "text/plain": [
       "<matplotlib.axes._subplots.AxesSubplot at 0x121d2f7d0>"
      ]
     },
     "execution_count": 31,
     "metadata": {},
     "output_type": "execute_result"
    },
    {
     "data": {
      "image/png": "[encoded data removed]",
      "text/plain": [
       "<Figure size 432x288 with 1 Axes>"
      ]
     },
     "metadata": {
      "needs_background": "light"
     },
     "output_type": "display_data"
    }
   ],
   "source": [
    "sns.countplot(x='TERRITORY', data = data, palette = 'hls')"
   ]
  },
  {
   "cell_type": "code",
   "execution_count": 32,
   "metadata": {},
   "outputs": [
    {
     "data": {
      "text/html": [
       "<div>\n",
       "<style scoped>\n",
       "    .dataframe tbody tr th:only-of-type {\n",
       "        vertical-align: middle;\n",
       "    }\n",
       "\n",
       "    .dataframe tbody tr th {\n",
       "        vertical-align: top;\n",
       "    }\n",
       "\n",
       "    .dataframe thead th {\n",
       "        text-align: right;\n",
       "    }\n",
       "</style>\n",
       "<table border=\"1\" class=\"dataframe\">\n",
       "  <thead>\n",
       "    <tr style=\"text-align: right;\">\n",
       "      <th></th>\n",
       "      <th>avg_income</th>\n",
       "      <th>CAMPUS_VISIT</th>\n",
       "      <th>distance</th>\n",
       "      <th>hscrat</th>\n",
       "      <th>init_span</th>\n",
       "      <th>int1rat</th>\n",
       "      <th>int2rat</th>\n",
       "      <th>interest</th>\n",
       "      <th>mailq</th>\n",
       "      <th>premiere</th>\n",
       "      <th>REFERRAL_CNTCTS</th>\n",
       "      <th>satscore</th>\n",
       "      <th>SELF_INIT_CNTCTS</th>\n",
       "      <th>sex</th>\n",
       "      <th>SOLICITED_CNTCTS</th>\n",
       "      <th>telecq</th>\n",
       "      <th>TOTAL_CONTACTS</th>\n",
       "      <th>TRAVEL_INIT_CNTCTS</th>\n",
       "    </tr>\n",
       "    <tr>\n",
       "      <th>TERRITORY</th>\n",
       "      <th></th>\n",
       "      <th></th>\n",
       "      <th></th>\n",
       "      <th></th>\n",
       "      <th></th>\n",
       "      <th></th>\n",
       "      <th></th>\n",
       "      <th></th>\n",
       "      <th></th>\n",
       "      <th></th>\n",
       "      <th></th>\n",
       "      <th></th>\n",
       "      <th></th>\n",
       "      <th></th>\n",
       "      <th></th>\n",
       "      <th></th>\n",
       "      <th></th>\n",
       "      <th></th>\n",
       "    </tr>\n",
       "  </thead>\n",
       "  <tbody>\n",
       "    <tr>\n",
       "      <td>0</td>\n",
       "      <td>44082.000000</td>\n",
       "      <td>0.000000</td>\n",
       "      <td>428.849367</td>\n",
       "      <td>0.000000</td>\n",
       "      <td>3.000000</td>\n",
       "      <td>0.012870</td>\n",
       "      <td>0.000000</td>\n",
       "      <td>0.000000</td>\n",
       "      <td>5.000000</td>\n",
       "      <td>0.000000</td>\n",
       "      <td>0.000000</td>\n",
       "      <td>NaN</td>\n",
       "      <td>1.000000</td>\n",
       "      <td>1.000000</td>\n",
       "      <td>0.000000</td>\n",
       "      <td>NaN</td>\n",
       "      <td>1.000000</td>\n",
       "      <td>0.000000</td>\n",
       "    </tr>\n",
       "    <tr>\n",
       "      <td>1</td>\n",
       "      <td>63704.467167</td>\n",
       "      <td>0.197655</td>\n",
       "      <td>101.502782</td>\n",
       "      <td>0.073595</td>\n",
       "      <td>18.489112</td>\n",
       "      <td>0.055504</td>\n",
       "      <td>0.063150</td>\n",
       "      <td>0.199330</td>\n",
       "      <td>3.800670</td>\n",
       "      <td>0.291457</td>\n",
       "      <td>0.043551</td>\n",
       "      <td>1149.263393</td>\n",
       "      <td>3.944724</td>\n",
       "      <td>0.621343</td>\n",
       "      <td>0.603015</td>\n",
       "      <td>2.019380</td>\n",
       "      <td>5.078727</td>\n",
       "      <td>0.487437</td>\n",
       "    </tr>\n",
       "    <tr>\n",
       "      <td>2</td>\n",
       "      <td>40982.120858</td>\n",
       "      <td>0.115562</td>\n",
       "      <td>418.660106</td>\n",
       "      <td>0.069265</td>\n",
       "      <td>20.835131</td>\n",
       "      <td>0.034466</td>\n",
       "      <td>0.039489</td>\n",
       "      <td>0.135593</td>\n",
       "      <td>4.160247</td>\n",
       "      <td>0.160247</td>\n",
       "      <td>0.084746</td>\n",
       "      <td>1152.135922</td>\n",
       "      <td>2.650231</td>\n",
       "      <td>0.631410</td>\n",
       "      <td>0.702619</td>\n",
       "      <td>2.268293</td>\n",
       "      <td>3.753467</td>\n",
       "      <td>0.315871</td>\n",
       "    </tr>\n",
       "    <tr>\n",
       "      <td>3</td>\n",
       "      <td>58199.447458</td>\n",
       "      <td>0.125776</td>\n",
       "      <td>158.812148</td>\n",
       "      <td>0.068870</td>\n",
       "      <td>18.405280</td>\n",
       "      <td>0.054896</td>\n",
       "      <td>0.062395</td>\n",
       "      <td>0.211180</td>\n",
       "      <td>3.732919</td>\n",
       "      <td>0.295031</td>\n",
       "      <td>0.057453</td>\n",
       "      <td>1134.917695</td>\n",
       "      <td>3.833851</td>\n",
       "      <td>0.606635</td>\n",
       "      <td>0.506211</td>\n",
       "      <td>2.174785</td>\n",
       "      <td>4.888199</td>\n",
       "      <td>0.490683</td>\n",
       "    </tr>\n",
       "    <tr>\n",
       "      <td>4</td>\n",
       "      <td>56909.377289</td>\n",
       "      <td>0.167763</td>\n",
       "      <td>267.036773</td>\n",
       "      <td>0.091486</td>\n",
       "      <td>19.333882</td>\n",
       "      <td>0.048382</td>\n",
       "      <td>0.054554</td>\n",
       "      <td>0.190789</td>\n",
       "      <td>3.822368</td>\n",
       "      <td>0.245066</td>\n",
       "      <td>0.046053</td>\n",
       "      <td>1160.168675</td>\n",
       "      <td>3.629934</td>\n",
       "      <td>0.629816</td>\n",
       "      <td>0.590461</td>\n",
       "      <td>2.128472</td>\n",
       "      <td>4.809211</td>\n",
       "      <td>0.542763</td>\n",
       "    </tr>\n",
       "    <tr>\n",
       "      <td>5</td>\n",
       "      <td>40264.935829</td>\n",
       "      <td>0.099849</td>\n",
       "      <td>460.648248</td>\n",
       "      <td>0.077062</td>\n",
       "      <td>19.508321</td>\n",
       "      <td>0.040717</td>\n",
       "      <td>0.045752</td>\n",
       "      <td>0.177005</td>\n",
       "      <td>3.947050</td>\n",
       "      <td>0.140696</td>\n",
       "      <td>0.045386</td>\n",
       "      <td>1145.603448</td>\n",
       "      <td>2.727685</td>\n",
       "      <td>0.619938</td>\n",
       "      <td>0.603631</td>\n",
       "      <td>2.190045</td>\n",
       "      <td>3.860817</td>\n",
       "      <td>0.484115</td>\n",
       "    </tr>\n",
       "    <tr>\n",
       "      <td>6</td>\n",
       "      <td>53818.969466</td>\n",
       "      <td>0.159539</td>\n",
       "      <td>137.466932</td>\n",
       "      <td>0.089586</td>\n",
       "      <td>18.912829</td>\n",
       "      <td>0.052067</td>\n",
       "      <td>0.058799</td>\n",
       "      <td>0.223684</td>\n",
       "      <td>3.830592</td>\n",
       "      <td>0.251645</td>\n",
       "      <td>0.100329</td>\n",
       "      <td>1142.268293</td>\n",
       "      <td>3.657895</td>\n",
       "      <td>0.596315</td>\n",
       "      <td>0.643092</td>\n",
       "      <td>2.082353</td>\n",
       "      <td>4.797697</td>\n",
       "      <td>0.396382</td>\n",
       "    </tr>\n",
       "    <tr>\n",
       "      <td>7</td>\n",
       "      <td>55231.864621</td>\n",
       "      <td>0.124204</td>\n",
       "      <td>419.817558</td>\n",
       "      <td>0.083919</td>\n",
       "      <td>19.464968</td>\n",
       "      <td>0.044844</td>\n",
       "      <td>0.052257</td>\n",
       "      <td>0.164013</td>\n",
       "      <td>4.007962</td>\n",
       "      <td>0.168790</td>\n",
       "      <td>0.073248</td>\n",
       "      <td>1155.549738</td>\n",
       "      <td>3.170382</td>\n",
       "      <td>0.623586</td>\n",
       "      <td>0.549363</td>\n",
       "      <td>2.133333</td>\n",
       "      <td>4.210191</td>\n",
       "      <td>0.417197</td>\n",
       "    </tr>\n",
       "    <tr>\n",
       "      <td>8</td>\n",
       "      <td>57588.668103</td>\n",
       "      <td>0.270321</td>\n",
       "      <td>398.082124</td>\n",
       "      <td>0.158832</td>\n",
       "      <td>19.357278</td>\n",
       "      <td>0.044006</td>\n",
       "      <td>0.050642</td>\n",
       "      <td>0.105860</td>\n",
       "      <td>3.654064</td>\n",
       "      <td>0.223062</td>\n",
       "      <td>0.086957</td>\n",
       "      <td>1160.049628</td>\n",
       "      <td>3.862004</td>\n",
       "      <td>0.606526</td>\n",
       "      <td>0.504726</td>\n",
       "      <td>2.124514</td>\n",
       "      <td>4.979206</td>\n",
       "      <td>0.525520</td>\n",
       "    </tr>\n",
       "    <tr>\n",
       "      <td>A</td>\n",
       "      <td>60142.376147</td>\n",
       "      <td>0.111940</td>\n",
       "      <td>1273.675221</td>\n",
       "      <td>0.100863</td>\n",
       "      <td>19.194030</td>\n",
       "      <td>0.020864</td>\n",
       "      <td>0.021869</td>\n",
       "      <td>0.089552</td>\n",
       "      <td>4.149254</td>\n",
       "      <td>0.074627</td>\n",
       "      <td>0.014925</td>\n",
       "      <td>1132.790698</td>\n",
       "      <td>1.992537</td>\n",
       "      <td>0.661538</td>\n",
       "      <td>0.582090</td>\n",
       "      <td>2.423077</td>\n",
       "      <td>2.917910</td>\n",
       "      <td>0.328358</td>\n",
       "    </tr>\n",
       "    <tr>\n",
       "      <td>N</td>\n",
       "      <td>59467.500000</td>\n",
       "      <td>0.000000</td>\n",
       "      <td>108.549241</td>\n",
       "      <td>0.124891</td>\n",
       "      <td>15.376238</td>\n",
       "      <td>0.017725</td>\n",
       "      <td>0.020672</td>\n",
       "      <td>0.049505</td>\n",
       "      <td>4.415842</td>\n",
       "      <td>0.019802</td>\n",
       "      <td>0.000000</td>\n",
       "      <td>1148.965517</td>\n",
       "      <td>1.306931</td>\n",
       "      <td>0.568182</td>\n",
       "      <td>0.267327</td>\n",
       "      <td>2.333333</td>\n",
       "      <td>1.762376</td>\n",
       "      <td>0.188119</td>\n",
       "    </tr>\n",
       "  </tbody>\n",
       "</table>\n",
       "</div>"
      ],
      "text/plain": [
       "             avg_income  CAMPUS_VISIT     distance    hscrat  init_span  \\\n",
       "TERRITORY                                                                 \n",
       "0          44082.000000      0.000000   428.849367  0.000000   3.000000   \n",
       "1          63704.467167      0.197655   101.502782  0.073595  18.489112   \n",
       "2          40982.120858      0.115562   418.660106  0.069265  20.835131   \n",
       "3          58199.447458      0.125776   158.812148  0.068870  18.405280   \n",
       "4          56909.377289      0.167763   267.036773  0.091486  19.333882   \n",
       "5          40264.935829      0.099849   460.648248  0.077062  19.508321   \n",
       "6          53818.969466      0.159539   137.466932  0.089586  18.912829   \n",
       "7          55231.864621      0.124204   419.817558  0.083919  19.464968   \n",
       "8          57588.668103      0.270321   398.082124  0.158832  19.357278   \n",
       "A          60142.376147      0.111940  1273.675221  0.100863  19.194030   \n",
       "N          59467.500000      0.000000   108.549241  0.124891  15.376238   \n",
       "\n",
       "            int1rat   int2rat  interest     mailq  premiere  REFERRAL_CNTCTS  \\\n",
       "TERRITORY                                                                      \n",
       "0          0.012870  0.000000  0.000000  5.000000  0.000000         0.000000   \n",
       "1          0.055504  0.063150  0.199330  3.800670  0.291457         0.043551   \n",
       "2          0.034466  0.039489  0.135593  4.160247  0.160247         0.084746   \n",
       "3          0.054896  0.062395  0.211180  3.732919  0.295031         0.057453   \n",
       "4          0.048382  0.054554  0.190789  3.822368  0.245066         0.046053   \n",
       "5          0.040717  0.045752  0.177005  3.947050  0.140696         0.045386   \n",
       "6          0.052067  0.058799  0.223684  3.830592  0.251645         0.100329   \n",
       "7          0.044844  0.052257  0.164013  4.007962  0.168790         0.073248   \n",
       "8          0.044006  0.050642  0.105860  3.654064  0.223062         0.086957   \n",
       "A          0.020864  0.021869  0.089552  4.149254  0.074627         0.014925   \n",
       "N          0.017725  0.020672  0.049505  4.415842  0.019802         0.000000   \n",
       "\n",
       "              satscore  SELF_INIT_CNTCTS       sex  SOLICITED_CNTCTS  \\\n",
       "TERRITORY                                                              \n",
       "0                  NaN          1.000000  1.000000          0.000000   \n",
       "1          1149.263393          3.944724  0.621343          0.603015   \n",
       "2          1152.135922          2.650231  0.631410          0.702619   \n",
       "3          1134.917695          3.833851  0.606635          0.506211   \n",
       "4          1160.168675          3.629934  0.629816          0.590461   \n",
       "5          1145.603448          2.727685  0.619938          0.603631   \n",
       "6          1142.268293          3.657895  0.596315          0.643092   \n",
       "7          1155.549738          3.170382  0.623586          0.549363   \n",
       "8          1160.049628          3.862004  0.606526          0.504726   \n",
       "A          1132.790698          1.992537  0.661538          0.582090   \n",
       "N          1148.965517          1.306931  0.568182          0.267327   \n",
       "\n",
       "             telecq  TOTAL_CONTACTS  TRAVEL_INIT_CNTCTS  \n",
       "TERRITORY                                                \n",
       "0               NaN        1.000000            0.000000  \n",
       "1          2.019380        5.078727            0.487437  \n",
       "2          2.268293        3.753467            0.315871  \n",
       "3          2.174785        4.888199            0.490683  \n",
       "4          2.128472        4.809211            0.542763  \n",
       "5          2.190045        3.860817            0.484115  \n",
       "6          2.082353        4.797697            0.396382  \n",
       "7          2.133333        4.210191            0.417197  \n",
       "8          2.124514        4.979206            0.525520  \n",
       "A          2.423077        2.917910            0.328358  \n",
       "N          2.333333        1.762376            0.188119  "
      ]
     },
     "execution_count": 32,
     "metadata": {},
     "output_type": "execute_result"
    }
   ],
   "source": [
    "data.groupby('TERRITORY').mean()"
   ]
  },
  {
   "cell_type": "code",
   "execution_count": 33,
   "metadata": {},
   "outputs": [
    {
     "data": {
      "image/png": "[encoded data removed]",
      "text/plain": [
       "<Figure size 432x288 with 1 Axes>"
      ]
     },
     "metadata": {
      "needs_background": "light"
     },
     "output_type": "display_data"
    }
   ],
   "source": [
    "%matplotlib inline\n",
    "pd.crosstab(data.CAMPUS_VISIT,data.Target_Enroll).plot(kind='bar')\n",
    "plt.title('Purchase Frequency for Job Title')\n",
    "plt.xlabel('CAMPUS_VISIT')\n",
    "plt.ylabel('Frequency of Enroll')\n",
    "plt.savefig('enroll vs campus visit')"
   ]
  },
  {
   "cell_type": "code",
   "execution_count": 34,
   "metadata": {},
   "outputs": [
    {
     "data": {
      "image/png": "[encoded data removed]",
      "text/plain": [
       "<Figure size 432x288 with 1 Axes>"
      ]
     },
     "metadata": {
      "needs_background": "light"
     },
     "output_type": "display_data"
    }
   ],
   "source": [
    "%matplotlib inline\n",
    "pd.crosstab(data.ETHNICITY,data.Target_Enroll).plot(kind='bar')\n",
    "plt.title('Purchase Frequency for Job Title')\n",
    "plt.xlabel('ETHNICITY')\n",
    "plt.ylabel('Frequency of Enroll')\n",
    "plt.savefig('enroll vs ETHNICITY')"
   ]
  },
  {
   "cell_type": "code",
   "execution_count": 35,
   "metadata": {},
   "outputs": [
    {
     "data": {
      "image/png": "[encoded data removed]",
      "text/plain": [
       "<Figure size 432x288 with 1 Axes>"
      ]
     },
     "metadata": {
      "needs_background": "light"
     },
     "output_type": "display_data"
    }
   ],
   "source": [
    "%matplotlib inline\n",
    "pd.crosstab(data.Instate,data.Target_Enroll).plot(kind='bar')\n",
    "plt.title('Purchase Frequency for Job Title')\n",
    "plt.xlabel('Instate')\n",
    "plt.ylabel('Frequency of Enroll')\n",
    "plt.savefig('enroll vs Instate')"
   ]
  },
  {
   "cell_type": "code",
   "execution_count": 36,
   "metadata": {},
   "outputs": [
    {
     "data": {
      "image/png": "[encoded data removed]",
      "text/plain": [
       "<Figure size 432x288 with 1 Axes>"
      ]
     },
     "metadata": {
      "needs_background": "light"
     },
     "output_type": "display_data"
    }
   ],
   "source": [
    "%matplotlib inline\n",
    "pd.crosstab(data.interest,data.Target_Enroll).plot(kind='bar')\n",
    "plt.title('Purchase Frequency for Job Title')\n",
    "plt.xlabel('interest')\n",
    "plt.ylabel('Frequency of Enroll')\n",
    "plt.savefig('enroll vs interest')"
   ]
  },
  {
   "cell_type": "code",
   "execution_count": 37,
   "metadata": {},
   "outputs": [
    {
     "data": {
      "image/png": "[encoded data removed]",
      "text/plain": [
       "<Figure size 432x288 with 1 Axes>"
      ]
     },
     "metadata": {
      "needs_background": "light"
     },
     "output_type": "display_data"
    }
   ],
   "source": [
    "%matplotlib inline\n",
    "pd.crosstab(data.premiere,data.Target_Enroll).plot(kind='bar')\n",
    "plt.title('Purchase Frequency for Job Title')\n",
    "plt.xlabel('premiere')\n",
    "plt.ylabel('Frequency of Enroll')\n",
    "plt.savefig('enroll vs premiere')  "
   ]
  },
  {
   "cell_type": "code",
   "execution_count": 38,
   "metadata": {},
   "outputs": [
    {
     "data": {
      "image/png": "[encoded data removed]",
      "text/plain": [
       "<Figure size 432x288 with 1 Axes>"
      ]
     },
     "metadata": {
      "needs_background": "light"
     },
     "output_type": "display_data"
    }
   ],
   "source": [
    "%matplotlib inline\n",
    "pd.crosstab(data.sex,data.Target_Enroll).plot(kind='bar')\n",
    "plt.title('Purchase Frequency for Job Title')\n",
    "plt.xlabel('sex')\n",
    "plt.ylabel('Frequency of Enroll')\n",
    "plt.savefig('enroll vs sex')"
   ]
  },
  {
   "cell_type": "code",
   "execution_count": 43,
   "metadata": {},
   "outputs": [
    {
     "name": "stdout",
     "output_type": "stream",
     "text": [
      "['avg_income', 'CAMPUS_VISIT', 'CONTACT_CODE1', 'Contact_Date', 'Contact_Month', 'Contact_Year', 'distance', 'Target_Enroll', 'ETHNICITY', 'hscrat', 'ID', 'init_span', 'int1rat', 'int2rat', 'interest', 'mailq', 'REFERRAL_CNTCTS', 'satscore', 'SELF_INIT_CNTCTS', 'sex', 'SOLICITED_CNTCTS', 'telecq', 'TERRITORY', 'TOTAL_CONTACTS', 'TRAVEL_INIT_CNTCTS', 'sex_0.0', 'sex_1.0', 'Instate_N', 'Instate_Y', 'premiere_0.0', 'premiere_1.0']\n"
     ]
    }
   ],
   "source": [
    "cat_vars=['Instate','premiere']\n",
    "for var in cat_vars:\n",
    "    cat_list='var'+'_'+var\n",
    "    cat_list = pd.get_dummies(data[var], prefix=var)\n",
    "    data1=data.join(cat_list)\n",
    "    data=data1\n",
    "cat_vars=['Instate','premiere']\n",
    "data_vars=data.columns.values.tolist()\n",
    "to_keep=[i for i in data_vars if i not in cat_vars]\n",
    "print(to_keep)"
   ]
  },
  {
   "cell_type": "code",
   "execution_count": 45,
   "metadata": {},
   "outputs": [
    {
     "data": {
      "text/plain": [
       "array(['avg_income', 'CAMPUS_VISIT', 'CONTACT_CODE1', 'Contact_Date',\n",
       "       'Contact_Month', 'Contact_Year', 'distance', 'Target_Enroll',\n",
       "       'ETHNICITY', 'hscrat', 'ID', 'init_span', 'int1rat', 'int2rat',\n",
       "       'interest', 'mailq', 'REFERRAL_CNTCTS', 'satscore',\n",
       "       'SELF_INIT_CNTCTS', 'sex', 'SOLICITED_CNTCTS', 'telecq',\n",
       "       'TERRITORY', 'TOTAL_CONTACTS', 'TRAVEL_INIT_CNTCTS', 'sex_0.0',\n",
       "       'sex_1.0', 'Instate_N', 'Instate_Y', 'premiere_0.0',\n",
       "       'premiere_1.0'], dtype=object)"
      ]
     },
     "execution_count": 45,
     "metadata": {},
     "output_type": "execute_result"
    }
   ],
   "source": [
    "data_final=data[to_keep]\n",
    "data = data.drop(['sex'], axis = 1)\n",
    "\n",
    "data_final.columns.values"
   ]
  },
  {
   "cell_type": "code",
   "execution_count": 48,
   "metadata": {},
   "outputs": [],
   "source": [
    "from sklearn.feature_selection import RFE\n",
    "from sklearn.linear_model import LogisticRegression"
   ]
  },
  {
   "cell_type": "code",
   "execution_count": 54,
   "metadata": {},
   "outputs": [
    {
     "data": {
      "text/plain": [
       "0    2580\n",
       "1    2580\n",
       "Name: Target_Enroll, dtype: int64"
      ]
     },
     "execution_count": 54,
     "metadata": {},
     "output_type": "execute_result"
    }
   ],
   "source": [
    "data_final['Target_Enroll'].value_counts()"
   ]
  },
  {
   "cell_type": "code",
   "execution_count": 57,
   "metadata": {},
   "outputs": [],
   "source": [
    "data_final.to_csv('~/Documents/fall2019/5753/enrollment_data.csv')"
   ]
  },
  {
   "cell_type": "code",
   "execution_count": 61,
   "metadata": {},
   "outputs": [],
   "source": [
    "data_final = data_final.dropna()"
   ]
  },
  {
   "cell_type": "code",
   "execution_count": 62,
   "metadata": {},
   "outputs": [],
   "source": [
    "data_final = data_final.drop(['CONTACT_CODE1'], axis = 1)"
   ]
  },
  {
   "cell_type": "code",
   "execution_count": 65,
   "metadata": {},
   "outputs": [],
   "source": [
    "data_final = data_final.drop(['Contact_Month'], axis = 1)"
   ]
  },
  {
   "cell_type": "code",
   "execution_count": 71,
   "metadata": {},
   "outputs": [
    {
     "data": {
      "text/plain": [
       "C    1187\n",
       "H     160\n",
       "A     141\n",
       "B     127\n",
       "N      45\n",
       "O      36\n",
       "I       6\n",
       "Name: ETHNICITY, dtype: int64"
      ]
     },
     "execution_count": 71,
     "metadata": {},
     "output_type": "execute_result"
    }
   ],
   "source": [
    "data_final['ETHNICITY'].value_counts()\n"
   ]
  },
  {
   "cell_type": "code",
   "execution_count": 72,
   "metadata": {},
   "outputs": [
    {
     "data": {
      "text/plain": [
       "3    290\n",
       "4    245\n",
       "1    220\n",
       "8    214\n",
       "6    214\n",
       "7    194\n",
       "5    165\n",
       "2    144\n",
       "A     16\n",
       "Name: TERRITORY, dtype: int64"
      ]
     },
     "execution_count": 72,
     "metadata": {},
     "output_type": "execute_result"
    }
   ],
   "source": [
    "data_final['TERRITORY'].value_counts()"
   ]
  },
  {
   "cell_type": "code",
   "execution_count": 80,
   "metadata": {},
   "outputs": [],
   "source": [
    "data_final['ETHNICITY']=np.where(data_final['ETHNICITY'] =='A', 1, data_final['ETHNICITY'])\n",
    "data_final['ETHNICITY']=np.where(data_final['ETHNICITY'] =='B', 2, data_final['ETHNICITY'])\n",
    "data_final['ETHNICITY']=np.where(data_final['ETHNICITY'] =='C', 3, data_final['ETHNICITY'])\n",
    "data_final['ETHNICITY']=np.where(data_final['ETHNICITY'] =='H', 4, data_final['ETHNICITY'])\n",
    "data_final['ETHNICITY']=np.where(data_final['ETHNICITY'] =='I', 5, data_final['ETHNICITY'])\n",
    "data_final['ETHNICITY']=np.where(data_final['ETHNICITY'] =='O', 6, data_final['ETHNICITY'])\n",
    "data_final['ETHNICITY']=np.where(data_final['ETHNICITY'] =='N', 7, data_final['ETHNICITY'])"
   ]
  },
  {
   "cell_type": "code",
   "execution_count": 81,
   "metadata": {},
   "outputs": [],
   "source": [
    "data_final['TERRITORY']=np.where(data_final['TERRITORY'] =='A', 9, data_final['ETHNICITY'])"
   ]
  },
  {
   "cell_type": "code",
   "execution_count": 82,
   "metadata": {},
   "outputs": [],
   "source": [
    "X = data_final.loc[:, data_final.columns != 'Target_Enroll']\n",
    "y = data_final.loc[:, data_final.columns == 'Target_Enroll']"
   ]
  },
  {
   "cell_type": "code",
   "execution_count": 83,
   "metadata": {},
   "outputs": [
    {
     "name": "stdout",
     "output_type": "stream",
     "text": [
      "[False  True False False False  True  True False False  True  True  True\n",
      "  True  True False False  True  True  True  True  True  True  True  True\n",
      "  True  True  True  True]\n",
      "[9 1 4 7 6 1 1 8 2 1 1 1 1 1 5 3 1 1 1 1 1 1 1 1 1 1 1 1]\n"
     ]
    },
    {
     "name": "stderr",
     "output_type": "stream",
     "text": [
      "/usr/local/lib/python3.7/site-packages/sklearn/linear_model/logistic.py:432: FutureWarning: Default solver will be changed to 'lbfgs' in 0.22. Specify a solver to silence this warning.\n",
      "  FutureWarning)\n",
      "/usr/local/lib/python3.7/site-packages/sklearn/linear_model/logistic.py:432: FutureWarning: Default solver will be changed to 'lbfgs' in 0.22. Specify a solver to silence this warning.\n",
      "  FutureWarning)\n",
      "/usr/local/lib/python3.7/site-packages/sklearn/linear_model/logistic.py:432: FutureWarning: Default solver will be changed to 'lbfgs' in 0.22. Specify a solver to silence this warning.\n",
      "  FutureWarning)\n",
      "/usr/local/lib/python3.7/site-packages/sklearn/linear_model/logistic.py:432: FutureWarning: Default solver will be changed to 'lbfgs' in 0.22. Specify a solver to silence this warning.\n",
      "  FutureWarning)\n",
      "/usr/local/lib/python3.7/site-packages/sklearn/linear_model/logistic.py:432: FutureWarning: Default solver will be changed to 'lbfgs' in 0.22. Specify a solver to silence this warning.\n",
      "  FutureWarning)\n",
      "/usr/local/lib/python3.7/site-packages/sklearn/linear_model/logistic.py:432: FutureWarning: Default solver will be changed to 'lbfgs' in 0.22. Specify a solver to silence this warning.\n",
      "  FutureWarning)\n",
      "/usr/local/lib/python3.7/site-packages/sklearn/linear_model/logistic.py:432: FutureWarning: Default solver will be changed to 'lbfgs' in 0.22. Specify a solver to silence this warning.\n",
      "  FutureWarning)\n",
      "/usr/local/lib/python3.7/site-packages/sklearn/linear_model/logistic.py:432: FutureWarning: Default solver will be changed to 'lbfgs' in 0.22. Specify a solver to silence this warning.\n",
      "  FutureWarning)\n",
      "/usr/local/lib/python3.7/site-packages/sklearn/linear_model/logistic.py:432: FutureWarning: Default solver will be changed to 'lbfgs' in 0.22. Specify a solver to silence this warning.\n",
      "  FutureWarning)\n"
     ]
    }
   ],
   "source": [
    "logreg = LogisticRegression()\n",
    "# recursive feature elimination.\n",
    "rfe = RFE(logreg, 20)\n",
    "rfe = rfe.fit(X, y.values.ravel())\n",
    "print(rfe.support_)\n",
    "print(rfe.ranking_)"
   ]
  },
  {
   "cell_type": "code",
   "execution_count": 97,
   "metadata": {},
   "outputs": [
    {
     "name": "stdout",
     "output_type": "stream",
     "text": [
      "Index(['avg_income', 'CAMPUS_VISIT', 'Contact_Date', 'Contact_Year',\n",
      "       'distance', 'ETHNICITY', 'hscrat', 'ID', 'init_span', 'int1rat',\n",
      "       'int2rat', 'interest', 'mailq', 'REFERRAL_CNTCTS', 'satscore',\n",
      "       'SELF_INIT_CNTCTS', 'sex', 'SOLICITED_CNTCTS', 'telecq', 'TERRITORY',\n",
      "       'TOTAL_CONTACTS', 'TRAVEL_INIT_CNTCTS', 'sex_0.0', 'sex_1.0',\n",
      "       'Instate_N', 'Instate_Y', 'premiere_0.0', 'premiere_1.0'],\n",
      "      dtype='object')\n",
      "['CAMPUS_VISIT', 'ETHNICITY', 'hscrat', 'int1rat', 'int2rat', 'interest', 'mailq', 'REFERRAL_CNTCTS', 'sex', 'SOLICITED_CNTCTS', 'telecq', 'TERRITORY', 'TOTAL_CONTACTS', 'TRAVEL_INIT_CNTCTS', 'sex_0.0', 'sex_1.0', 'Instate_N', 'Instate_Y', 'premiere_0.0', 'premiere_1.0']\n"
     ]
    }
   ],
   "source": [
    "cols = X.columns\n",
    "print(cols)\n",
    "cols_use = cols[rfe.support_].tolist()\n",
    "print(cols_use)"
   ]
  },
  {
   "cell_type": "code",
   "execution_count": 99,
   "metadata": {},
   "outputs": [],
   "source": [
    "X = data_final[cols_use]\n",
    "y = data_final['Target_Enroll']"
   ]
  },
  {
   "cell_type": "code",
   "execution_count": 102,
   "metadata": {},
   "outputs": [
    {
     "name": "stdout",
     "output_type": "stream",
     "text": [
      "length of X 1702\n",
      "length of y 1702\n"
     ]
    }
   ],
   "source": [
    "print('length of X' + \" \"+ str(len(X)))\n",
    "print('length of y' + \" \"+ str(len(y)))\n",
    "\n"
   ]
  },
  {
   "cell_type": "code",
   "execution_count": 104,
   "metadata": {},
   "outputs": [
    {
     "data": {
      "text/plain": [
       "103    1\n",
       "104    1\n",
       "106    1\n",
       "114    1\n",
       "127    1\n",
       "Name: Target_Enroll, dtype: object"
      ]
     },
     "execution_count": 104,
     "metadata": {},
     "output_type": "execute_result"
    }
   ],
   "source": [
    "y.head()"
   ]
  },
  {
   "cell_type": "code",
   "execution_count": 106,
   "metadata": {},
   "outputs": [
    {
     "name": "stdout",
     "output_type": "stream",
     "text": [
      "Optimization terminated successfully.\n",
      "         Current function value: 0.259859\n",
      "         Iterations 17\n",
      "                          Results: Logit\n",
      "===================================================================\n",
      "Model:                Logit            Pseudo R-squared: 0.336     \n",
      "Dependent Variable:   Target_Enroll    AIC:              916.5603  \n",
      "Date:                 2019-10-19 13:35 BIC:              1003.5933 \n",
      "No. Observations:     1702             Log-Likelihood:   -442.28   \n",
      "Df Model:             15               LL-Null:          -666.58   \n",
      "Df Residuals:         1686             LLR p-value:      4.0518e-86\n",
      "Converged:            1.0000           Scale:            1.0000    \n",
      "No. Iterations:       17.0000                                      \n",
      "-------------------------------------------------------------------\n",
      "                    Coef.   Std.Err.    z    P>|z|   [0.025  0.975]\n",
      "-------------------------------------------------------------------\n",
      "CAMPUS_VISIT         1.2291   0.2900  4.2388 0.0000  0.6608  1.7974\n",
      "ETHNICITY           -0.0918      nan     nan    nan     nan     nan\n",
      "hscrat              15.2303   2.1019  7.2462 0.0000 11.1108 19.3499\n",
      "int1rat              1.9085   3.0519  0.6253 0.5317 -4.0731  7.8901\n",
      "int2rat              7.2810   3.4339  2.1204 0.0340  0.5508 14.0113\n",
      "interest             0.2651   0.2051  1.2925 0.1962 -0.1369  0.6671\n",
      "mailq                0.1427   0.0658  2.1696 0.0300  0.0138  0.2717\n",
      "REFERRAL_CNTCTS      0.4705   0.3837  1.2263 0.2201 -0.2815  1.2225\n",
      "sex                 18.5776      nan     nan    nan     nan     nan\n",
      "SOLICITED_CNTCTS    -0.1207   0.1293 -0.9331 0.3508 -0.3742  0.1328\n",
      "telecq              -0.8474   0.1247 -6.7977 0.0000 -1.0917 -0.6030\n",
      "TERRITORY           -0.0918      nan     nan    nan     nan     nan\n",
      "TOTAL_CONTACTS       0.2940   0.0515  5.7129 0.0000  0.1931  0.3948\n",
      "TRAVEL_INIT_CNTCTS  -0.0766   0.1534 -0.4991 0.6177 -0.3773  0.2242\n",
      "sex_0.0             -1.9986      nan     nan    nan     nan     nan\n",
      "sex_1.0            -20.4896      nan     nan    nan     nan     nan\n",
      "Instate_N            2.1109   0.0000     inf 0.0000  2.1109  2.1109\n",
      "Instate_Y            2.0973   0.2676  7.8386 0.0000  1.5729  2.6217\n",
      "premiere_0.0        -0.3306      nan     nan    nan     nan     nan\n",
      "premiere_1.0         0.4458      nan     nan    nan     nan     nan\n",
      "===================================================================\n",
      "\n"
     ]
    },
    {
     "name": "stderr",
     "output_type": "stream",
     "text": [
      "/usr/local/lib/python3.7/site-packages/statsmodels/base/model.py:1286: RuntimeWarning: invalid value encountered in sqrt\n",
      "  bse_ = np.sqrt(np.diag(self.cov_params()))\n",
      "/usr/local/lib/python3.7/site-packages/statsmodels/base/model.py:1294: RuntimeWarning: divide by zero encountered in true_divide\n",
      "  return self.params / self.bse\n",
      "/usr/local/lib/python3.7/site-packages/scipy/stats/_distn_infrastructure.py:901: RuntimeWarning: invalid value encountered in greater\n",
      "  return (a < x) & (x < b)\n",
      "/usr/local/lib/python3.7/site-packages/scipy/stats/_distn_infrastructure.py:901: RuntimeWarning: invalid value encountered in less\n",
      "  return (a < x) & (x < b)\n",
      "/usr/local/lib/python3.7/site-packages/scipy/stats/_distn_infrastructure.py:1892: RuntimeWarning: invalid value encountered in less_equal\n",
      "  cond2 = cond0 & (x <= _a)\n"
     ]
    }
   ],
   "source": [
    "import statsmodels.api as sm\n",
    "logit_model=sm.Logit(y.astype(float),X.astype(float))\n",
    "result=logit_model.fit()\n",
    "print(result.summary2())"
   ]
  },
  {
   "cell_type": "code",
   "execution_count": 110,
   "metadata": {},
   "outputs": [],
   "source": [
    "X = X.drop(['int1rat','interest','REFERRAL_CNTCTS','SOLICITED_CNTCTS','TRAVEL_INIT_CNTCTS'],axis = 1)"
   ]
  },
  {
   "cell_type": "code",
   "execution_count": 111,
   "metadata": {},
   "outputs": [
    {
     "name": "stderr",
     "output_type": "stream",
     "text": [
      "/usr/local/lib/python3.7/site-packages/sklearn/linear_model/logistic.py:432: FutureWarning: Default solver will be changed to 'lbfgs' in 0.22. Specify a solver to silence this warning.\n",
      "  FutureWarning)\n"
     ]
    },
    {
     "data": {
      "text/plain": [
       "LogisticRegression(C=1.0, class_weight=None, dual=False, fit_intercept=True,\n",
       "                   intercept_scaling=1, l1_ratio=None, max_iter=100,\n",
       "                   multi_class='warn', n_jobs=None, penalty='l2',\n",
       "                   random_state=None, solver='warn', tol=0.0001, verbose=0,\n",
       "                   warm_start=False)"
      ]
     },
     "execution_count": 111,
     "metadata": {},
     "output_type": "execute_result"
    }
   ],
   "source": [
    "from sklearn.linear_model import LogisticRegression\n",
    "from sklearn import metrics\n",
    "X_train, X_test, y_train, y_test = train_test_split(X, y, test_size=0.3, random_state=0)\n",
    "logreg = LogisticRegression()\n",
    "logreg.fit(X_train, y_train)"
   ]
  },
  {
   "cell_type": "code",
   "execution_count": 112,
   "metadata": {},
   "outputs": [
    {
     "name": "stdout",
     "output_type": "stream",
     "text": [
      "Accuracy of logistic regression classifier on test set: 0.93\n"
     ]
    }
   ],
   "source": [
    "y_pred = logreg.predict(X_test)\n",
    "print('Accuracy of logistic regression classifier on test set: {:.2f}'.format(logreg.score(X_test, y_test)))"
   ]
  },
  {
   "cell_type": "code",
   "execution_count": 113,
   "metadata": {},
   "outputs": [
    {
     "name": "stdout",
     "output_type": "stream",
     "text": [
      "[[ 16  34]\n",
      " [  3 458]]\n"
     ]
    }
   ],
   "source": [
    "from sklearn.metrics import confusion_matrix\n",
    "confusion_matrix = confusion_matrix(y_test, y_pred)\n",
    "print(confusion_matrix) "
   ]
  },
  {
   "cell_type": "code",
   "execution_count": 114,
   "metadata": {},
   "outputs": [
    {
     "name": "stdout",
     "output_type": "stream",
     "text": [
      "              precision    recall  f1-score   support\n",
      "\n",
      "           0       0.84      0.32      0.46        50\n",
      "           1       0.93      0.99      0.96       461\n",
      "\n",
      "    accuracy                           0.93       511\n",
      "   macro avg       0.89      0.66      0.71       511\n",
      "weighted avg       0.92      0.93      0.91       511\n",
      "\n"
     ]
    }
   ],
   "source": [
    "from sklearn.metrics import classification_report\n",
    "print(classification_report(y_test, y_pred))"
   ]
  },
  {
   "cell_type": "code",
   "execution_count": 119,
   "metadata": {
    "scrolled": true
   },
   "outputs": [],
   "source": [
    "from sklearn.metrics import roc_auc_score\n",
    "from sklearn.metrics import roc_curve"
   ]
  },
  {
   "cell_type": "code",
   "execution_count": 134,
   "metadata": {},
   "outputs": [],
   "source": [
    "for i in range(0,len(y_pred)):\n",
    "    y_pred[i] = int(y_pred[i])"
   ]
  },
  {
   "cell_type": "code",
   "execution_count": 136,
   "metadata": {},
   "outputs": [],
   "source": [
    "logit_roc_auc = roc_auc_score(y_test,y_pred)"
   ]
  },
  {
   "cell_type": "code",
   "execution_count": 165,
   "metadata": {},
   "outputs": [
    {
     "data": {
      "text/plain": [
       "1    1476\n",
       "0     226\n",
       "Name: Target_Enroll, dtype: int64"
      ]
     },
     "execution_count": 165,
     "metadata": {},
     "output_type": "execute_result"
    }
   ],
   "source": [
    "y.value_counts()"
   ]
  },
  {
   "cell_type": "code",
   "execution_count": 182,
   "metadata": {},
   "outputs": [],
   "source": [
    "count_no_sub = len(data_final[data_final['Target_Enroll']=='0'])\n",
    "count_sub = len(data_final[data_final['Target_Enroll']=='1'])"
   ]
  },
  {
   "cell_type": "code",
   "execution_count": 183,
   "metadata": {},
   "outputs": [
    {
     "name": "stdout",
     "output_type": "stream",
     "text": [
      "percentage of no subscription is 13.278495887191538\n",
      "percentage of subscription 86.72150411280846\n"
     ]
    }
   ],
   "source": [
    "pct_of_no_sub = count_no_sub/(count_no_sub+count_sub)\n",
    "print(\"percentage of no subscription is\", pct_of_no_sub*100)\n",
    "pct_of_sub = count_sub/(count_no_sub+count_sub)\n",
    "print(\"percentage of subscription\", pct_of_sub*100)"
   ]
  },
  {
   "cell_type": "code",
   "execution_count": 184,
   "metadata": {},
   "outputs": [],
   "source": [
    "fpr, tpr, thresholds = roc_curve(y_train, logreg.predict_proba(X_train)[:,1],pos_label='1')"
   ]
  },
  {
   "cell_type": "code",
   "execution_count": 185,
   "metadata": {},
   "outputs": [
    {
     "data": {
      "image/png": "[encoded data removed]",
      "text/plain": [
       "<Figure size 432x288 with 1 Axes>"
      ]
     },
     "metadata": {
      "needs_background": "light"
     },
     "output_type": "display_data"
    }
   ],
   "source": [
    "plt.figure()\n",
    "plt.plot(fpr, tpr, label='Logistic Regression (area = %0.2f)' % logit_roc_auc)\n",
    "plt.plot([0, 1], [0, 1],'r--')\n",
    "plt.xlim([0.0, 1.0])\n",
    "plt.ylim([0.0, 1.05])\n",
    "plt.xlabel('False Positive Rate')\n",
    "plt.ylabel('True Positive Rate')\n",
    "plt.title('Receiver operating characteristic')\n",
    "plt.legend(loc=\"lower right\")\n",
    "plt.savefig('Log_ROC')\n",
    "plt.show()"
   ]
  },
  {
   "cell_type": "code",
   "execution_count": null,
   "metadata": {},
   "outputs": [],
   "source": []
  }
 ],
 "metadata": {
  "kernelspec": {
   "display_name": "Python 3",
   "language": "python",
   "name": "python3"
  },
  "language_info": {
   "codemirror_mode": {
    "name": "ipython",
    "version": 3
   },
   "file_extension": ".py",
   "mimetype": "text/x-python",
   "name": "python",
   "nbconvert_exporter": "python",
   "pygments_lexer": "ipython3",
   "version": "3.7.4"
  }
 },
 "nbformat": 4,
 "nbformat_minor": 2
}
