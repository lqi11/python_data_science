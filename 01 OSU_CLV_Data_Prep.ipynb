{
 "cells": [
  {
   "cell_type": "markdown",
   "metadata": {},
   "source": [
    "# Hands-on Lab --- Data Prep"
   ]
  },
  {
   "cell_type": "markdown",
   "metadata": {},
   "source": [
    "## Importing packages:"
   ]
  },
  {
   "cell_type": "code",
   "execution_count": 2,
   "metadata": {},
   "outputs": [],
   "source": [
    "import numpy as np\n",
    "import pandas as pd\n",
    "import sklearn as sk\n",
    "import matplotlib.pyplot as plt\n",
    "\n",
    "\n",
    "pd.set_option('display.max_rows', 500)\n",
    "pd.set_option('display.max_columns', 50)\n",
    "pd.set_option('display.width', 1000)\n",
    "pd.set_option('display.precision', 2)"
   ]
  },
  {
   "cell_type": "markdown",
   "metadata": {},
   "source": [
    "## Reading comma separated files into dataframes.\n",
    "## Change the path below to point to churn and margin data:"
   ]
  },
  {
   "cell_type": "code",
   "execution_count": 3,
   "metadata": {},
   "outputs": [],
   "source": [
    "churn_df = pd.read_csv('~/Documents/fall2019/5753/churn_data.csv')\n",
    "margin_df = pd.read_csv('~/Documents/fall2019/5753/margin_data.csv')"
   ]
  },
  {
   "cell_type": "markdown",
   "metadata": {},
   "source": [
    "## Use the head method to view churn dataframe:"
   ]
  },
  {
   "cell_type": "code",
   "execution_count": 3,
   "metadata": {},
   "outputs": [
    {
     "data": {
      "text/html": [
       "<div>\n",
       "<style scoped>\n",
       "    .dataframe tbody tr th:only-of-type {\n",
       "        vertical-align: middle;\n",
       "    }\n",
       "\n",
       "    .dataframe tbody tr th {\n",
       "        vertical-align: top;\n",
       "    }\n",
       "\n",
       "    .dataframe thead th {\n",
       "        text-align: right;\n",
       "    }\n",
       "</style>\n",
       "<table border=\"1\" class=\"dataframe\">\n",
       "  <thead>\n",
       "    <tr style=\"text-align: right;\">\n",
       "      <th></th>\n",
       "      <th>ST</th>\n",
       "      <th>Zip</th>\n",
       "      <th>DMA</th>\n",
       "      <th>Area_Cd</th>\n",
       "      <th>emailable</th>\n",
       "      <th>solicit_ph_ind</th>\n",
       "      <th>solicit_email_ind</th>\n",
       "      <th>fixd_incm_flg</th>\n",
       "      <th>scheduled_purchase_flg</th>\n",
       "      <th>months_since_last_trans</th>\n",
       "      <th>...</th>\n",
       "      <th>resp_cnt_36mo</th>\n",
       "      <th>call_in_mo_36mo</th>\n",
       "      <th>call_out_mo_36mo</th>\n",
       "      <th>order_cnt_36mo</th>\n",
       "      <th>tier</th>\n",
       "      <th>tier_prev</th>\n",
       "      <th>acct_ID</th>\n",
       "      <th>activation_date</th>\n",
       "      <th>event_date</th>\n",
       "      <th>churn_year_plus1_ind</th>\n",
       "    </tr>\n",
       "  </thead>\n",
       "  <tbody>\n",
       "    <tr>\n",
       "      <th>0</th>\n",
       "      <td>VA</td>\n",
       "      <td>23464</td>\n",
       "      <td>544</td>\n",
       "      <td>missing</td>\n",
       "      <td>0</td>\n",
       "      <td>0</td>\n",
       "      <td>1</td>\n",
       "      <td>0</td>\n",
       "      <td>0</td>\n",
       "      <td>2</td>\n",
       "      <td>...</td>\n",
       "      <td>0</td>\n",
       "      <td>0</td>\n",
       "      <td>0</td>\n",
       "      <td>1</td>\n",
       "      <td>3-Gold</td>\n",
       "      <td>xxx</td>\n",
       "      <td>B102465045</td>\n",
       "      <td>04JAN04</td>\n",
       "      <td>30JUN15</td>\n",
       "      <td>1</td>\n",
       "    </tr>\n",
       "    <tr>\n",
       "      <th>1</th>\n",
       "      <td>NC</td>\n",
       "      <td>27542</td>\n",
       "      <td>560</td>\n",
       "      <td>919</td>\n",
       "      <td>1</td>\n",
       "      <td>1</td>\n",
       "      <td>1</td>\n",
       "      <td>0</td>\n",
       "      <td>0</td>\n",
       "      <td>4</td>\n",
       "      <td>...</td>\n",
       "      <td>0</td>\n",
       "      <td>4</td>\n",
       "      <td>0</td>\n",
       "      <td>8</td>\n",
       "      <td>5-Diamond</td>\n",
       "      <td>3-Gold</td>\n",
       "      <td>B106897643</td>\n",
       "      <td>04JUL04</td>\n",
       "      <td>NaN</td>\n",
       "      <td>0</td>\n",
       "    </tr>\n",
       "    <tr>\n",
       "      <th>2</th>\n",
       "      <td>NV</td>\n",
       "      <td>89109</td>\n",
       "      <td>839</td>\n",
       "      <td>702</td>\n",
       "      <td>0</td>\n",
       "      <td>0</td>\n",
       "      <td>1</td>\n",
       "      <td>0</td>\n",
       "      <td>0</td>\n",
       "      <td>8</td>\n",
       "      <td>...</td>\n",
       "      <td>0</td>\n",
       "      <td>0</td>\n",
       "      <td>0</td>\n",
       "      <td>1</td>\n",
       "      <td>1-Bronze</td>\n",
       "      <td>xxx</td>\n",
       "      <td>B111832829</td>\n",
       "      <td>03SEP06</td>\n",
       "      <td>NaN</td>\n",
       "      <td>0</td>\n",
       "    </tr>\n",
       "    <tr>\n",
       "      <th>3</th>\n",
       "      <td>OH</td>\n",
       "      <td>43050</td>\n",
       "      <td>535</td>\n",
       "      <td>614</td>\n",
       "      <td>0</td>\n",
       "      <td>1</td>\n",
       "      <td>1</td>\n",
       "      <td>0</td>\n",
       "      <td>0</td>\n",
       "      <td>1</td>\n",
       "      <td>...</td>\n",
       "      <td>0</td>\n",
       "      <td>0</td>\n",
       "      <td>0</td>\n",
       "      <td>6</td>\n",
       "      <td>1-Bronze</td>\n",
       "      <td>xxx</td>\n",
       "      <td>B112883062</td>\n",
       "      <td>03SEP05</td>\n",
       "      <td>NaN</td>\n",
       "      <td>0</td>\n",
       "    </tr>\n",
       "    <tr>\n",
       "      <th>4</th>\n",
       "      <td>HI</td>\n",
       "      <td>96789</td>\n",
       "      <td>744</td>\n",
       "      <td>808</td>\n",
       "      <td>1</td>\n",
       "      <td>1</td>\n",
       "      <td>1</td>\n",
       "      <td>0</td>\n",
       "      <td>0</td>\n",
       "      <td>4</td>\n",
       "      <td>...</td>\n",
       "      <td>6</td>\n",
       "      <td>4</td>\n",
       "      <td>0</td>\n",
       "      <td>6</td>\n",
       "      <td>4-Platinum</td>\n",
       "      <td>3-Gold</td>\n",
       "      <td>B113581008</td>\n",
       "      <td>03DEC05</td>\n",
       "      <td>NaN</td>\n",
       "      <td>0</td>\n",
       "    </tr>\n",
       "  </tbody>\n",
       "</table>\n",
       "<p>5 rows × 31 columns</p>\n",
       "</div>"
      ],
      "text/plain": [
       "   ST    Zip  DMA  Area_Cd  emailable  solicit_ph_ind  solicit_email_ind  \\\n",
       "0  VA  23464  544  missing          0               0                  1   \n",
       "1  NC  27542  560      919          1               1                  1   \n",
       "2  NV  89109  839      702          0               0                  1   \n",
       "3  OH  43050  535      614          0               1                  1   \n",
       "4  HI  96789  744      808          1               1                  1   \n",
       "\n",
       "   fixd_incm_flg  scheduled_purchase_flg  months_since_last_trans  ...  \\\n",
       "0              0                       0                        2  ...   \n",
       "1              0                       0                        4  ...   \n",
       "2              0                       0                        8  ...   \n",
       "3              0                       0                        1  ...   \n",
       "4              0                       0                        4  ...   \n",
       "\n",
       "   resp_cnt_36mo  call_in_mo_36mo  call_out_mo_36mo  order_cnt_36mo  \\\n",
       "0              0                0                 0               1   \n",
       "1              0                4                 0               8   \n",
       "2              0                0                 0               1   \n",
       "3              0                0                 0               6   \n",
       "4              6                4                 0               6   \n",
       "\n",
       "         tier  tier_prev     acct_ID  activation_date  event_date  \\\n",
       "0      3-Gold        xxx  B102465045          04JAN04     30JUN15   \n",
       "1   5-Diamond     3-Gold  B106897643          04JUL04         NaN   \n",
       "2    1-Bronze        xxx  B111832829          03SEP06         NaN   \n",
       "3    1-Bronze        xxx  B112883062          03SEP05         NaN   \n",
       "4  4-Platinum     3-Gold  B113581008          03DEC05         NaN   \n",
       "\n",
       "   churn_year_plus1_ind  \n",
       "0                     1  \n",
       "1                     0  \n",
       "2                     0  \n",
       "3                     0  \n",
       "4                     0  \n",
       "\n",
       "[5 rows x 31 columns]"
      ]
     },
     "execution_count": 3,
     "metadata": {},
     "output_type": "execute_result"
    }
   ],
   "source": [
    "churn_df.head()"
   ]
  },
  {
   "cell_type": "markdown",
   "metadata": {},
   "source": [
    "## Use pandas describe method to see variable stats,\n",
    "##    and transpose to show variables as a list:"
   ]
  },
  {
   "cell_type": "code",
   "execution_count": 4,
   "metadata": {},
   "outputs": [
    {
     "name": "stdout",
     "output_type": "stream",
     "text": [
      " summary stats on churn data \n",
      "                            count unique         top   freq     mean      std  min      25%      50%      75%      max\n",
      "ST                          73481     59          CA   6649      NaN      NaN  NaN      NaN      NaN      NaN      NaN\n",
      "Zip                         73481  18361     missing    282      NaN      NaN  NaN      NaN      NaN      NaN      NaN\n",
      "DMA                         73481    216         803   3013      NaN      NaN  NaN      NaN      NaN      NaN      NaN\n",
      "Area_Cd                     73481    328     missing   3851      NaN      NaN  NaN      NaN      NaN      NaN      NaN\n",
      "emailable                 7.3e+04    NaN         NaN    NaN     0.52      0.5    0        0        1        1        1\n",
      "solicit_ph_ind            7.3e+04    NaN         NaN    NaN     0.89     0.31    0        1        1        1        1\n",
      "solicit_email_ind         7.3e+04    NaN         NaN    NaN     0.96     0.19    0        1        1        1        1\n",
      "fixd_incm_flg             7.3e+04    NaN         NaN    NaN    0.092     0.29    0        0        0        0        1\n",
      "scheduled_purchase_flg    7.3e+04    NaN         NaN    NaN     0.26     0.44    0        0        0        1        1\n",
      "months_since_last_trans   7.3e+04    NaN         NaN    NaN      2.9      3.1    1        1        1        4       12\n",
      "months_since_first_trans  7.3e+04    NaN         NaN    NaN       65       58    1       14       46  1.1e+02    3e+02\n",
      "purch_cnt_life            7.3e+04    NaN         NaN    NaN       56       76    1        8       26       73  1.5e+03\n",
      "purch_amt_life            7.3e+04    NaN         NaN    NaN  3.2e+03  1.2e+04    0  2.2e+02  8.1e+02  2.7e+03  1.1e+06\n",
      "purch_cnt_cc_36mo         7.3e+04    NaN         NaN    NaN      4.7      9.6    0        0        0        4  6.3e+02\n",
      "purch_cnt_et_36mo         7.3e+04    NaN         NaN    NaN      3.9       11    0        0        0        0  2.3e+02\n",
      "purch_cnt_ck_36mo         7.3e+04    NaN         NaN    NaN       11       14    0        0        3       18    5e+02\n",
      "purch_cnt_tt_36mo         7.3e+04    NaN         NaN    NaN       19       15    0        6       16       33  6.3e+02\n",
      "purch_amt_36mo            7.3e+04    NaN         NaN    NaN  1.1e+03  4.6e+03    0  1.6e+02  5.1e+02  1.1e+03  5.8e+05\n",
      "purch_avg_36mo            7.3e+04    NaN         NaN    NaN       65  4.1e+02   -1       20       25       47    5e+04\n",
      "purch_avg_interval        7.3e+04    NaN         NaN    NaN      2.2      4.9   -1     0.99      1.1      1.9  1.6e+02\n",
      "mail_cnt_36mo             7.3e+04    NaN         NaN    NaN       19       15    0        6       16       33  4.3e+02\n",
      "resp_cnt_36mo             7.3e+04    NaN         NaN    NaN      3.3      7.1    0        0        0        3  2.4e+02\n",
      "call_in_mo_36mo           7.3e+04    NaN         NaN    NaN      7.8       46    0        0        0        3  2.3e+03\n",
      "call_out_mo_36mo          7.3e+04    NaN         NaN    NaN      2.3      2.4    0        1        2        3       38\n",
      "order_cnt_36mo            7.3e+04    NaN         NaN    NaN      6.3      9.8    0        3        4        7  4.7e+02\n",
      "tier                        73481      5    1-Bronze  47066      NaN      NaN  NaN      NaN      NaN      NaN      NaN\n",
      "tier_prev                   73481      6         xxx  49632      NaN      NaN  NaN      NaN      NaN      NaN      NaN\n",
      "acct_ID                     73481  73384  I152642467      3      NaN      NaN  NaN      NaN      NaN      NaN      NaN\n",
      "activation_date             73481    200     06JUL00   5295      NaN      NaN  NaN      NaN      NaN      NaN      NaN\n",
      "event_date                  19330     12     31JUL15   2156      NaN      NaN  NaN      NaN      NaN      NaN      NaN\n",
      "churn_year_plus1_ind      7.3e+04    NaN         NaN    NaN     0.26     0.44    0        0        0        1        1\n"
     ]
    }
   ],
   "source": [
    "print(\" summary stats on churn data \") \n",
    "print(churn_df.describe(include='all').transpose())"
   ]
  },
  {
   "cell_type": "markdown",
   "metadata": {},
   "source": [
    "## Use head method to view margin dataframe:"
   ]
  },
  {
   "cell_type": "code",
   "execution_count": 5,
   "metadata": {},
   "outputs": [
    {
     "data": {
      "text/html": [
       "<div>\n",
       "<style scoped>\n",
       "    .dataframe tbody tr th:only-of-type {\n",
       "        vertical-align: middle;\n",
       "    }\n",
       "\n",
       "    .dataframe tbody tr th {\n",
       "        vertical-align: top;\n",
       "    }\n",
       "\n",
       "    .dataframe thead th {\n",
       "        text-align: right;\n",
       "    }\n",
       "</style>\n",
       "<table border=\"1\" class=\"dataframe\">\n",
       "  <thead>\n",
       "    <tr style=\"text-align: right;\">\n",
       "      <th></th>\n",
       "      <th>trans_amt_t_minus_00</th>\n",
       "      <th>trans_amt_t_minus_01</th>\n",
       "      <th>trans_amt_t_minus_02</th>\n",
       "      <th>trans_amt_t_minus_03</th>\n",
       "      <th>trans_amt_t_minus_04</th>\n",
       "      <th>trans_amt_t_minus_05</th>\n",
       "      <th>trans_amt_t_minus_06</th>\n",
       "      <th>trans_amt_t_minus_07</th>\n",
       "      <th>trans_amt_t_minus_08</th>\n",
       "      <th>trans_amt_t_minus_09</th>\n",
       "      <th>trans_amt_t_minus_10</th>\n",
       "      <th>trans_amt_t_minus_11</th>\n",
       "      <th>trans_amt_t_minus_12</th>\n",
       "      <th>trans_amt_t_minus_13</th>\n",
       "      <th>trans_amt_t_minus_14</th>\n",
       "      <th>trans_amt_t_minus_15</th>\n",
       "      <th>trans_amt_t_minus_16</th>\n",
       "      <th>trans_amt_t_minus_17</th>\n",
       "      <th>trans_amt_t_minus_18</th>\n",
       "      <th>trans_amt_t_minus_19</th>\n",
       "      <th>trans_amt_t_minus_20</th>\n",
       "      <th>trans_amt_t_minus_21</th>\n",
       "      <th>trans_amt_t_minus_22</th>\n",
       "      <th>trans_amt_t_minus_23</th>\n",
       "      <th>trans_amt_t_minus_24</th>\n",
       "      <th>...</th>\n",
       "      <th>cost_amt_t_minus_11</th>\n",
       "      <th>cost_amt_t_minus_10</th>\n",
       "      <th>cost_amt_t_minus_09</th>\n",
       "      <th>cost_amt_t_minus_08</th>\n",
       "      <th>cost_amt_t_minus_07</th>\n",
       "      <th>cost_amt_t_minus_06</th>\n",
       "      <th>cost_amt_t_minus_05</th>\n",
       "      <th>cost_amt_t_minus_04</th>\n",
       "      <th>cost_amt_t_minus_03</th>\n",
       "      <th>cost_amt_t_minus_02</th>\n",
       "      <th>cost_amt_t_minus_01</th>\n",
       "      <th>cost_amt_t_minus_00</th>\n",
       "      <th>cost_amt_t_plus_01</th>\n",
       "      <th>cost_amt_t_plus_02</th>\n",
       "      <th>cost_amt_t_plus_03</th>\n",
       "      <th>cost_amt_t_plus_04</th>\n",
       "      <th>cost_amt_t_plus_05</th>\n",
       "      <th>cost_amt_t_plus_06</th>\n",
       "      <th>cost_amt_t_plus_07</th>\n",
       "      <th>cost_amt_t_plus_08</th>\n",
       "      <th>cost_amt_t_plus_09</th>\n",
       "      <th>cost_amt_t_plus_10</th>\n",
       "      <th>cost_amt_t_plus_11</th>\n",
       "      <th>cost_amt_t_plus_12</th>\n",
       "      <th>acct_ID</th>\n",
       "    </tr>\n",
       "  </thead>\n",
       "  <tbody>\n",
       "    <tr>\n",
       "      <td>0</td>\n",
       "      <td>0.0</td>\n",
       "      <td>1961.0</td>\n",
       "      <td>6110.5</td>\n",
       "      <td>0.0</td>\n",
       "      <td>0.0</td>\n",
       "      <td>0.0</td>\n",
       "      <td>0.0</td>\n",
       "      <td>0.0</td>\n",
       "      <td>0.0</td>\n",
       "      <td>0.0</td>\n",
       "      <td>3882.0</td>\n",
       "      <td>0.0</td>\n",
       "      <td>0.0</td>\n",
       "      <td>0.0</td>\n",
       "      <td>0.0</td>\n",
       "      <td>0.0</td>\n",
       "      <td>0.0</td>\n",
       "      <td>0.0</td>\n",
       "      <td>0.0</td>\n",
       "      <td>0.0</td>\n",
       "      <td>0.0</td>\n",
       "      <td>0.0</td>\n",
       "      <td>0.0</td>\n",
       "      <td>0.0</td>\n",
       "      <td>0.0</td>\n",
       "      <td>...</td>\n",
       "      <td>0.00</td>\n",
       "      <td>600.25</td>\n",
       "      <td>584.71</td>\n",
       "      <td>584.71</td>\n",
       "      <td>584.71</td>\n",
       "      <td>584.71</td>\n",
       "      <td>584.71</td>\n",
       "      <td>584.71</td>\n",
       "      <td>584.71</td>\n",
       "      <td>606.11</td>\n",
       "      <td>592.50</td>\n",
       "      <td>584.71</td>\n",
       "      <td>0.00</td>\n",
       "      <td>0.00</td>\n",
       "      <td>0.00</td>\n",
       "      <td>0.00</td>\n",
       "      <td>0.00</td>\n",
       "      <td>0.30</td>\n",
       "      <td>0.00</td>\n",
       "      <td>0.00</td>\n",
       "      <td>0.00</td>\n",
       "      <td>0.30</td>\n",
       "      <td>0.00</td>\n",
       "      <td>0.00</td>\n",
       "      <td>B102465045</td>\n",
       "    </tr>\n",
       "    <tr>\n",
       "      <td>1</td>\n",
       "      <td>0.0</td>\n",
       "      <td>0.0</td>\n",
       "      <td>0.0</td>\n",
       "      <td>40.0</td>\n",
       "      <td>0.0</td>\n",
       "      <td>400.0</td>\n",
       "      <td>200.0</td>\n",
       "      <td>150.0</td>\n",
       "      <td>0.0</td>\n",
       "      <td>0.0</td>\n",
       "      <td>0.0</td>\n",
       "      <td>0.0</td>\n",
       "      <td>0.0</td>\n",
       "      <td>0.0</td>\n",
       "      <td>0.0</td>\n",
       "      <td>0.0</td>\n",
       "      <td>0.0</td>\n",
       "      <td>0.0</td>\n",
       "      <td>0.0</td>\n",
       "      <td>0.0</td>\n",
       "      <td>0.0</td>\n",
       "      <td>0.0</td>\n",
       "      <td>75.0</td>\n",
       "      <td>949.0</td>\n",
       "      <td>135.0</td>\n",
       "      <td>...</td>\n",
       "      <td>598.94</td>\n",
       "      <td>598.68</td>\n",
       "      <td>598.68</td>\n",
       "      <td>598.68</td>\n",
       "      <td>599.88</td>\n",
       "      <td>599.58</td>\n",
       "      <td>599.28</td>\n",
       "      <td>598.98</td>\n",
       "      <td>600.05</td>\n",
       "      <td>601.37</td>\n",
       "      <td>601.37</td>\n",
       "      <td>598.98</td>\n",
       "      <td>14.49</td>\n",
       "      <td>14.27</td>\n",
       "      <td>14.76</td>\n",
       "      <td>13.97</td>\n",
       "      <td>15.69</td>\n",
       "      <td>14.87</td>\n",
       "      <td>14.79</td>\n",
       "      <td>14.57</td>\n",
       "      <td>14.27</td>\n",
       "      <td>14.27</td>\n",
       "      <td>14.76</td>\n",
       "      <td>14.53</td>\n",
       "      <td>B106897643</td>\n",
       "    </tr>\n",
       "    <tr>\n",
       "      <td>2</td>\n",
       "      <td>0.0</td>\n",
       "      <td>0.0</td>\n",
       "      <td>0.0</td>\n",
       "      <td>0.0</td>\n",
       "      <td>0.0</td>\n",
       "      <td>0.0</td>\n",
       "      <td>0.0</td>\n",
       "      <td>300.0</td>\n",
       "      <td>0.0</td>\n",
       "      <td>0.0</td>\n",
       "      <td>0.0</td>\n",
       "      <td>0.0</td>\n",
       "      <td>0.0</td>\n",
       "      <td>0.0</td>\n",
       "      <td>0.0</td>\n",
       "      <td>0.0</td>\n",
       "      <td>0.0</td>\n",
       "      <td>0.0</td>\n",
       "      <td>0.0</td>\n",
       "      <td>0.0</td>\n",
       "      <td>0.0</td>\n",
       "      <td>0.0</td>\n",
       "      <td>0.0</td>\n",
       "      <td>0.0</td>\n",
       "      <td>0.0</td>\n",
       "      <td>...</td>\n",
       "      <td>0.00</td>\n",
       "      <td>0.00</td>\n",
       "      <td>0.00</td>\n",
       "      <td>0.00</td>\n",
       "      <td>8.65</td>\n",
       "      <td>0.00</td>\n",
       "      <td>0.00</td>\n",
       "      <td>0.00</td>\n",
       "      <td>0.00</td>\n",
       "      <td>0.00</td>\n",
       "      <td>0.00</td>\n",
       "      <td>0.00</td>\n",
       "      <td>0.00</td>\n",
       "      <td>0.00</td>\n",
       "      <td>0.00</td>\n",
       "      <td>0.00</td>\n",
       "      <td>0.00</td>\n",
       "      <td>0.00</td>\n",
       "      <td>3.91</td>\n",
       "      <td>2.87</td>\n",
       "      <td>0.00</td>\n",
       "      <td>0.00</td>\n",
       "      <td>0.00</td>\n",
       "      <td>0.00</td>\n",
       "      <td>B111832829</td>\n",
       "    </tr>\n",
       "    <tr>\n",
       "      <td>3</td>\n",
       "      <td>20.0</td>\n",
       "      <td>20.0</td>\n",
       "      <td>20.0</td>\n",
       "      <td>20.0</td>\n",
       "      <td>20.0</td>\n",
       "      <td>20.0</td>\n",
       "      <td>20.0</td>\n",
       "      <td>20.0</td>\n",
       "      <td>20.0</td>\n",
       "      <td>20.0</td>\n",
       "      <td>0.0</td>\n",
       "      <td>20.0</td>\n",
       "      <td>20.0</td>\n",
       "      <td>20.0</td>\n",
       "      <td>20.0</td>\n",
       "      <td>20.0</td>\n",
       "      <td>20.0</td>\n",
       "      <td>20.0</td>\n",
       "      <td>20.0</td>\n",
       "      <td>20.0</td>\n",
       "      <td>20.0</td>\n",
       "      <td>20.0</td>\n",
       "      <td>20.0</td>\n",
       "      <td>20.0</td>\n",
       "      <td>20.0</td>\n",
       "      <td>...</td>\n",
       "      <td>2.10</td>\n",
       "      <td>1.50</td>\n",
       "      <td>3.29</td>\n",
       "      <td>1.58</td>\n",
       "      <td>1.83</td>\n",
       "      <td>1.47</td>\n",
       "      <td>4.45</td>\n",
       "      <td>1.40</td>\n",
       "      <td>1.54</td>\n",
       "      <td>3.95</td>\n",
       "      <td>1.16</td>\n",
       "      <td>1.78</td>\n",
       "      <td>4.46</td>\n",
       "      <td>2.10</td>\n",
       "      <td>5.17</td>\n",
       "      <td>1.29</td>\n",
       "      <td>0.26</td>\n",
       "      <td>0.00</td>\n",
       "      <td>0.00</td>\n",
       "      <td>0.00</td>\n",
       "      <td>0.00</td>\n",
       "      <td>0.30</td>\n",
       "      <td>0.00</td>\n",
       "      <td>0.30</td>\n",
       "      <td>B112883062</td>\n",
       "    </tr>\n",
       "    <tr>\n",
       "      <td>4</td>\n",
       "      <td>0.0</td>\n",
       "      <td>0.0</td>\n",
       "      <td>0.0</td>\n",
       "      <td>600.0</td>\n",
       "      <td>0.0</td>\n",
       "      <td>0.0</td>\n",
       "      <td>0.0</td>\n",
       "      <td>700.0</td>\n",
       "      <td>300.0</td>\n",
       "      <td>300.0</td>\n",
       "      <td>300.0</td>\n",
       "      <td>300.0</td>\n",
       "      <td>300.0</td>\n",
       "      <td>300.0</td>\n",
       "      <td>2160.0</td>\n",
       "      <td>0.0</td>\n",
       "      <td>0.0</td>\n",
       "      <td>0.0</td>\n",
       "      <td>0.0</td>\n",
       "      <td>0.0</td>\n",
       "      <td>600.0</td>\n",
       "      <td>300.0</td>\n",
       "      <td>0.0</td>\n",
       "      <td>300.0</td>\n",
       "      <td>600.0</td>\n",
       "      <td>...</td>\n",
       "      <td>605.41</td>\n",
       "      <td>604.44</td>\n",
       "      <td>599.99</td>\n",
       "      <td>600.91</td>\n",
       "      <td>604.18</td>\n",
       "      <td>599.21</td>\n",
       "      <td>598.68</td>\n",
       "      <td>599.20</td>\n",
       "      <td>600.05</td>\n",
       "      <td>601.63</td>\n",
       "      <td>598.94</td>\n",
       "      <td>598.98</td>\n",
       "      <td>15.09</td>\n",
       "      <td>14.87</td>\n",
       "      <td>15.06</td>\n",
       "      <td>15.04</td>\n",
       "      <td>15.09</td>\n",
       "      <td>15.94</td>\n",
       "      <td>18.68</td>\n",
       "      <td>15.94</td>\n",
       "      <td>15.30</td>\n",
       "      <td>17.72</td>\n",
       "      <td>15.06</td>\n",
       "      <td>15.90</td>\n",
       "      <td>B113581008</td>\n",
       "    </tr>\n",
       "  </tbody>\n",
       "</table>\n",
       "<p>5 rows × 97 columns</p>\n",
       "</div>"
      ],
      "text/plain": [
       "   trans_amt_t_minus_00  trans_amt_t_minus_01  trans_amt_t_minus_02  trans_amt_t_minus_03  trans_amt_t_minus_04  trans_amt_t_minus_05  trans_amt_t_minus_06  trans_amt_t_minus_07  trans_amt_t_minus_08  trans_amt_t_minus_09  trans_amt_t_minus_10  trans_amt_t_minus_11  trans_amt_t_minus_12  trans_amt_t_minus_13  trans_amt_t_minus_14  trans_amt_t_minus_15  trans_amt_t_minus_16  trans_amt_t_minus_17  trans_amt_t_minus_18  trans_amt_t_minus_19  trans_amt_t_minus_20  trans_amt_t_minus_21  trans_amt_t_minus_22  trans_amt_t_minus_23  trans_amt_t_minus_24  ...  cost_amt_t_minus_11  cost_amt_t_minus_10  cost_amt_t_minus_09  cost_amt_t_minus_08  cost_amt_t_minus_07  cost_amt_t_minus_06  cost_amt_t_minus_05  cost_amt_t_minus_04  cost_amt_t_minus_03  cost_amt_t_minus_02  cost_amt_t_minus_01  cost_amt_t_minus_00  cost_amt_t_plus_01  cost_amt_t_plus_02  cost_amt_t_plus_03  cost_amt_t_plus_04  cost_amt_t_plus_05  cost_amt_t_plus_06  cost_amt_t_plus_07  cost_amt_t_plus_08  cost_amt_t_plus_09  \\\n",
       "0                   0.0                1961.0                6110.5                   0.0                   0.0                   0.0                   0.0                   0.0                   0.0                   0.0                3882.0                   0.0                   0.0                   0.0                   0.0                   0.0                   0.0                   0.0                   0.0                   0.0                   0.0                   0.0                   0.0                   0.0                   0.0  ...                 0.00               600.25               584.71               584.71               584.71               584.71               584.71               584.71               584.71               606.11               592.50               584.71                0.00                0.00                0.00                0.00                0.00                0.30                0.00                0.00                0.00   \n",
       "1                   0.0                   0.0                   0.0                  40.0                   0.0                 400.0                 200.0                 150.0                   0.0                   0.0                   0.0                   0.0                   0.0                   0.0                   0.0                   0.0                   0.0                   0.0                   0.0                   0.0                   0.0                   0.0                  75.0                 949.0                 135.0  ...               598.94               598.68               598.68               598.68               599.88               599.58               599.28               598.98               600.05               601.37               601.37               598.98               14.49               14.27               14.76               13.97               15.69               14.87               14.79               14.57               14.27   \n",
       "2                   0.0                   0.0                   0.0                   0.0                   0.0                   0.0                   0.0                 300.0                   0.0                   0.0                   0.0                   0.0                   0.0                   0.0                   0.0                   0.0                   0.0                   0.0                   0.0                   0.0                   0.0                   0.0                   0.0                   0.0                   0.0  ...                 0.00                 0.00                 0.00                 0.00                 8.65                 0.00                 0.00                 0.00                 0.00                 0.00                 0.00                 0.00                0.00                0.00                0.00                0.00                0.00                0.00                3.91                2.87                0.00   \n",
       "3                  20.0                  20.0                  20.0                  20.0                  20.0                  20.0                  20.0                  20.0                  20.0                  20.0                   0.0                  20.0                  20.0                  20.0                  20.0                  20.0                  20.0                  20.0                  20.0                  20.0                  20.0                  20.0                  20.0                  20.0                  20.0  ...                 2.10                 1.50                 3.29                 1.58                 1.83                 1.47                 4.45                 1.40                 1.54                 3.95                 1.16                 1.78                4.46                2.10                5.17                1.29                0.26                0.00                0.00                0.00                0.00   \n",
       "4                   0.0                   0.0                   0.0                 600.0                   0.0                   0.0                   0.0                 700.0                 300.0                 300.0                 300.0                 300.0                 300.0                 300.0                2160.0                   0.0                   0.0                   0.0                   0.0                   0.0                 600.0                 300.0                   0.0                 300.0                 600.0  ...               605.41               604.44               599.99               600.91               604.18               599.21               598.68               599.20               600.05               601.63               598.94               598.98               15.09               14.87               15.06               15.04               15.09               15.94               18.68               15.94               15.30   \n",
       "\n",
       "   cost_amt_t_plus_10  cost_amt_t_plus_11  cost_amt_t_plus_12     acct_ID  \n",
       "0                0.30                0.00                0.00  B102465045  \n",
       "1               14.27               14.76               14.53  B106897643  \n",
       "2                0.00                0.00                0.00  B111832829  \n",
       "3                0.30                0.00                0.30  B112883062  \n",
       "4               17.72               15.06               15.90  B113581008  \n",
       "\n",
       "[5 rows x 97 columns]"
      ]
     },
     "execution_count": 5,
     "metadata": {},
     "output_type": "execute_result"
    }
   ],
   "source": [
    "margin_df.head()"
   ]
  },
  {
   "cell_type": "markdown",
   "metadata": {},
   "source": [
    "## Modify margin data to only have ANNUAL margin numbers,\n",
    "##    and print stats on the new margin dataframe:"
   ]
  },
  {
   "cell_type": "code",
   "execution_count": 6,
   "metadata": {},
   "outputs": [
    {
     "name": "stdout",
     "output_type": "stream",
     "text": [
      " summary stats on margin data \n",
      "                  count unique         top freq     mean      std      min  25%      50%      75%      max\n",
      "acct_ID           73481  73384  I152642467    3      NaN      NaN      NaN  NaN      NaN      NaN      NaN\n",
      "margin_Y_neg_1  7.3e+04    NaN         NaN  NaN  2.3e+02  1.6e+03 -1.9e+04   43  1.8e+02  3.4e+02    2e+05\n",
      "margin_Y_neg_2  7.3e+04    NaN         NaN  NaN  1.9e+02  1.7e+03 -7.7e+03    0  1.2e+02  2.9e+02    2e+05\n",
      "margin_Y_neg_3  7.3e+04    NaN         NaN  NaN  1.6e+02  1.4e+03 -6.9e+03    0       26  2.4e+02  1.9e+05\n",
      "margin_Y_pos_1  7.3e+04    NaN         NaN  NaN  3.6e+02  1.7e+03 -2.7e+03 -2.2  1.6e+02  3.3e+02    2e+05\n"
     ]
    }
   ],
   "source": [
    "margin_df['rev_Y_neg_1']=margin_df['trans_amt_t_minus_00']+margin_df['trans_amt_t_minus_01']+margin_df['trans_amt_t_minus_02']+margin_df['trans_amt_t_minus_03']+margin_df['trans_amt_t_minus_04']+margin_df['trans_amt_t_minus_05']+margin_df['trans_amt_t_minus_06']+margin_df['trans_amt_t_minus_07']+margin_df['trans_amt_t_minus_08']+margin_df['trans_amt_t_minus_09']+margin_df['trans_amt_t_minus_10']+margin_df['trans_amt_t_minus_11']\n",
    "margin_df['cost_Y_neg_1']=margin_df['cost_amt_t_minus_00']+margin_df['cost_amt_t_minus_01']+margin_df['cost_amt_t_minus_02']+margin_df['cost_amt_t_minus_03']+margin_df['cost_amt_t_minus_04']+margin_df['cost_amt_t_minus_05']+margin_df['cost_amt_t_minus_06']+margin_df['cost_amt_t_minus_07']+margin_df['cost_amt_t_minus_08']+margin_df['cost_amt_t_minus_09']+margin_df['cost_amt_t_minus_10']+margin_df['cost_amt_t_minus_11']\n",
    "margin_df['margin_Y_neg_1']=margin_df['rev_Y_neg_1']-margin_df['cost_Y_neg_1']\n",
    "\n",
    "margin_df['rev_Y_neg_2']=margin_df['trans_amt_t_minus_12']+margin_df['trans_amt_t_minus_13']+margin_df['trans_amt_t_minus_14']+margin_df['trans_amt_t_minus_15']+margin_df['trans_amt_t_minus_16']+margin_df['trans_amt_t_minus_17']+margin_df['trans_amt_t_minus_18']+margin_df['trans_amt_t_minus_19']+margin_df['trans_amt_t_minus_20']+margin_df['trans_amt_t_minus_21']+margin_df['trans_amt_t_minus_22']+margin_df['trans_amt_t_minus_23']\n",
    "margin_df['cost_Y_neg_2']=margin_df['cost_amt_t_minus_12']+margin_df['cost_amt_t_minus_13']+margin_df['cost_amt_t_minus_14']+margin_df['cost_amt_t_minus_15']+margin_df['cost_amt_t_minus_16']+margin_df['cost_amt_t_minus_17']+margin_df['cost_amt_t_minus_18']+margin_df['cost_amt_t_minus_19']+margin_df['cost_amt_t_minus_20']+margin_df['cost_amt_t_minus_21']+margin_df['cost_amt_t_minus_22']+margin_df['cost_amt_t_minus_23']\n",
    "margin_df['margin_Y_neg_2']=margin_df['rev_Y_neg_2']-margin_df['cost_Y_neg_2']\n",
    "\n",
    "margin_df['rev_Y_neg_3']=margin_df['trans_amt_t_minus_24']+margin_df['trans_amt_t_minus_25']+margin_df['trans_amt_t_minus_26']+margin_df['trans_amt_t_minus_27']+margin_df['trans_amt_t_minus_28']+margin_df['trans_amt_t_minus_29']+margin_df['trans_amt_t_minus_30']+margin_df['trans_amt_t_minus_31']+margin_df['trans_amt_t_minus_32']+margin_df['trans_amt_t_minus_33']+margin_df['trans_amt_t_minus_34']+margin_df['trans_amt_t_minus_35']\n",
    "margin_df['cost_Y_neg_3']=margin_df['cost_amt_t_minus_24']+margin_df['cost_amt_t_minus_25']+margin_df['cost_amt_t_minus_26']+margin_df['cost_amt_t_minus_27']+margin_df['cost_amt_t_minus_28']+margin_df['cost_amt_t_minus_29']+margin_df['cost_amt_t_minus_30']+margin_df['cost_amt_t_minus_31']+margin_df['cost_amt_t_minus_32']+margin_df['cost_amt_t_minus_33']+margin_df['cost_amt_t_minus_34']+margin_df['cost_amt_t_minus_35']\n",
    "margin_df['margin_Y_neg_3']=margin_df['rev_Y_neg_3']-margin_df['cost_Y_neg_3']\n",
    "\n",
    "margin_df['rev_Y_pos_1']=margin_df['trans_amt_t_plus_01']+margin_df['trans_amt_t_plus_02']+margin_df['trans_amt_t_plus_03']+margin_df['trans_amt_t_plus_04']+margin_df['trans_amt_t_plus_05']+margin_df['trans_amt_t_plus_06']+margin_df['trans_amt_t_plus_07']+margin_df['trans_amt_t_plus_08']+margin_df['trans_amt_t_plus_09']+margin_df['trans_amt_t_plus_10']+margin_df['trans_amt_t_plus_11']+margin_df['trans_amt_t_plus_12']\n",
    "margin_df['cost_Y_pos_1']=margin_df['cost_amt_t_plus_01']+margin_df['cost_amt_t_plus_02']+margin_df['cost_amt_t_plus_03']+margin_df['cost_amt_t_plus_04']+margin_df['cost_amt_t_plus_05']+margin_df['cost_amt_t_plus_06']+margin_df['cost_amt_t_plus_07']+margin_df['cost_amt_t_plus_08']+margin_df['cost_amt_t_plus_09']+margin_df['cost_amt_t_plus_10']+margin_df['cost_amt_t_plus_11']+margin_df['cost_amt_t_plus_12']\n",
    "margin_df['margin_Y_pos_1']=margin_df['rev_Y_pos_1']-margin_df['cost_Y_pos_1']\n",
    "\n",
    "margin_df = margin_df[['acct_ID','margin_Y_neg_1','margin_Y_neg_2','margin_Y_neg_3','margin_Y_pos_1']]\n",
    "\n",
    "print(\" summary stats on margin data \") \n",
    "print(margin_df.describe(include='all').transpose())"
   ]
  },
  {
   "cell_type": "markdown",
   "metadata": {},
   "source": [
    "## Create bar chart to explore churn rates by tiers:"
   ]
  },
  {
   "cell_type": "code",
   "execution_count": 7,
   "metadata": {},
   "outputs": [
    {
     "data": {
      "text/plain": [
       "<matplotlib.axes._subplots.AxesSubplot at 0x109238210>"
      ]
     },
     "execution_count": 7,
     "metadata": {},
     "output_type": "execute_result"
    },
    {
     "data": {
      "image/png": "[encoded data removed]",
      "text/plain": [
       "<Figure size 432x288 with 1 Axes>"
      ]
     },
     "metadata": {
      "needs_background": "light"
     },
     "output_type": "display_data"
    }
   ],
   "source": [
    "temp_df = churn_df.groupby(['tier'])['churn_year_plus1_ind'].mean()\n",
    "temp_df.plot.bar(title=\"Churn Rate by Tiers\")"
   ]
  },
  {
   "cell_type": "markdown",
   "metadata": {},
   "source": [
    "## Create histogram to explore distribution of variables in churn data:"
   ]
  },
  {
   "cell_type": "code",
   "execution_count": 8,
   "metadata": {},
   "outputs": [
    {
     "data": {
      "text/plain": [
       "<matplotlib.axes._subplots.AxesSubplot at 0x11ab2bd50>"
      ]
     },
     "execution_count": 8,
     "metadata": {},
     "output_type": "execute_result"
    },
    {
     "data": {
      "image/png": "[encoded data removed]",
      "text/plain": [
       "<Figure size 432x288 with 1 Axes>"
      ]
     },
     "metadata": {
      "needs_background": "light"
     },
     "output_type": "display_data"
    }
   ],
   "source": [
    "churn_df['purch_amt_life'].plot.hist(title=\"Distribution of Purchase Amount\",bins=50)"
   ]
  },
  {
   "cell_type": "markdown",
   "metadata": {},
   "source": [
    "## Create histogram to explore distribution of variables in margin data:"
   ]
  },
  {
   "cell_type": "code",
   "execution_count": 9,
   "metadata": {},
   "outputs": [
    {
     "data": {
      "text/plain": [
       "<matplotlib.axes._subplots.AxesSubplot at 0x1092327d0>"
      ]
     },
     "execution_count": 9,
     "metadata": {},
     "output_type": "execute_result"
    },
    {
     "data": {
      "image/png": "[encoded data removed]",
      "text/plain": [
       "<Figure size 432x288 with 1 Axes>"
      ]
     },
     "metadata": {
      "needs_background": "light"
     },
     "output_type": "display_data"
    }
   ],
   "source": [
    "temp_df = margin_df.query('-1000<margin_Y_neg_1<3000')\n",
    "temp_df['margin_Y_neg_1'].plot.hist(title=\"Distribution of Prior Year Margin\",bins=50)"
   ]
  },
  {
   "cell_type": "markdown",
   "metadata": {},
   "source": [
    "## Feature engineering on the Churn data:"
   ]
  },
  {
   "cell_type": "code",
   "execution_count": 10,
   "metadata": {},
   "outputs": [
    {
     "name": "stdout",
     "output_type": "stream",
     "text": [
      " summary stats on churn data \n",
      "                            count unique         top   freq   mean   std  min   25%   50%      75%      max\n",
      "ST                          73481     59          CA   6649    NaN   NaN  NaN   NaN   NaN      NaN      NaN\n",
      "Zip                         73481  18361     missing    282    NaN   NaN  NaN   NaN   NaN      NaN      NaN\n",
      "DMA                         73481    216         803   3013    NaN   NaN  NaN   NaN   NaN      NaN      NaN\n",
      "Area_Cd                     73481    328     missing   3851    NaN   NaN  NaN   NaN   NaN      NaN      NaN\n",
      "emailable                 7.3e+04    NaN         NaN    NaN   0.52   0.5    0     0     1        1        1\n",
      "solicit_ph_ind            7.3e+04    NaN         NaN    NaN   0.89  0.31    0     1     1        1        1\n",
      "solicit_email_ind         7.3e+04    NaN         NaN    NaN   0.96  0.19    0     1     1        1        1\n",
      "fixd_incm_flg             7.3e+04    NaN         NaN    NaN  0.092  0.29    0     0     0        0        1\n",
      "scheduled_purchase_flg    7.3e+04    NaN         NaN    NaN   0.26  0.44    0     0     0        1        1\n",
      "months_since_last_trans   7.3e+04    NaN         NaN    NaN    2.9   3.1    1     1     1        4       12\n",
      "months_since_first_trans  7.3e+04    NaN         NaN    NaN     65    58    1    14    46  1.1e+02    3e+02\n",
      "purch_avg_interval        7.3e+04    NaN         NaN    NaN    4.9    10    0     1   1.2      2.6  1.6e+02\n",
      "mail_cnt_36mo             7.3e+04    NaN         NaN    NaN     19    15    0     6    16       33  4.3e+02\n",
      "call_in_mo_36mo           7.3e+04    NaN         NaN    NaN    7.8    46    0     0     0        3  2.3e+03\n",
      "call_out_mo_36mo          7.3e+04    NaN         NaN    NaN    2.3   2.4    0     1     2        3       38\n",
      "tier                        73481      5    1-Bronze  47066    NaN   NaN  NaN   NaN   NaN      NaN      NaN\n",
      "tier_prev                   73481      6         xxx  49632    NaN   NaN  NaN   NaN   NaN      NaN      NaN\n",
      "acct_ID                     73481  73384  I152642467      3    NaN   NaN  NaN   NaN   NaN      NaN      NaN\n",
      "activation_date             73481    200     06JUL00   5295    NaN   NaN  NaN   NaN   NaN      NaN      NaN\n",
      "event_date                  19330     12     31JUL15   2156    NaN   NaN  NaN   NaN   NaN      NaN      NaN\n",
      "churn_year_plus1_ind      7.3e+04    NaN         NaN    NaN   0.26  0.44    0     0     0        1        1\n",
      "log_order_cnt_36mo        7.3e+04    NaN         NaN    NaN   0.74  0.29    0   0.6   0.7      0.9      2.7\n",
      "log_purch_amt_36mo        7.3e+04    NaN         NaN    NaN    2.6  0.65    0   2.2   2.7        3      5.8\n",
      "log_purch_amt_life        7.3e+04    NaN         NaN    NaN    2.9  0.79    0   2.3   2.9      3.4        6\n",
      "log_purch_avg_36mo        7.3e+04    NaN         NaN    NaN    1.5  0.35    0   1.3   1.4      1.7      4.7\n",
      "log_purch_cnt_life        7.3e+04    NaN         NaN    NaN    1.4   0.6  0.3  0.95   1.4      1.9      3.2\n",
      "log_purch_cnt_tt_36mo     7.3e+04    NaN         NaN    NaN    1.1  0.43    0  0.85   1.2      1.5      2.8\n",
      "log_resp_cnt_36mo         7.3e+04    NaN         NaN    NaN   0.33  0.45    0     0     0      0.6      2.4\n",
      "perc_purch_cc_36mo        7.3e+04    NaN         NaN    NaN   0.31  0.44    0     0     0     0.93        1\n",
      "perc_purch_ck_36mo        7.3e+04    NaN         NaN    NaN   0.56  0.47    0     0  0.92        1        2\n",
      "perc_purch_et_36mo        7.3e+04    NaN         NaN    NaN   0.13  0.32    0     0     0        0        1\n"
     ]
    }
   ],
   "source": [
    "\"\"\" when avg interval = -1 replace with 36 months \"\"\"\n",
    "churn_df['purch_avg_interval'].replace([-1], 36, inplace=True)\n",
    "\n",
    "\"\"\" when avg purchase = -1 replace with 0 \"\"\"\n",
    "churn_df['purch_avg_36mo'].replace([-1], 0, inplace=True)\n",
    "\n",
    "churn_df['log_order_cnt_36mo']=np.log10(churn_df['order_cnt_36mo']+1)\n",
    "churn_df['log_purch_amt_36mo']=np.log10(churn_df['purch_amt_36mo']+1)\n",
    "churn_df['log_purch_amt_life']=np.log10(churn_df['purch_amt_life']+1)\n",
    "churn_df['log_purch_avg_36mo']=np.log10(churn_df['purch_avg_36mo']+1)\n",
    "churn_df['log_purch_cnt_life']=np.log10(churn_df['purch_cnt_life']+1)\n",
    "churn_df['log_purch_cnt_tt_36mo']=np.log10(churn_df['purch_cnt_tt_36mo']+1)\n",
    "churn_df['log_resp_cnt_36mo']=np.log10(churn_df['resp_cnt_36mo']+1)\n",
    "\n",
    "churn_df['perc_purch_cc_36mo']=np.where(churn_df['purch_cnt_tt_36mo']==0,0,churn_df['purch_cnt_cc_36mo']/churn_df['purch_cnt_tt_36mo'])\n",
    "churn_df['perc_purch_ck_36mo']=np.where(churn_df['purch_cnt_tt_36mo']==0,0,churn_df['purch_cnt_ck_36mo']/churn_df['purch_cnt_tt_36mo'])\n",
    "churn_df['perc_purch_et_36mo']=np.where(churn_df['purch_cnt_tt_36mo']==0,0,churn_df['purch_cnt_et_36mo']/churn_df['purch_cnt_tt_36mo'])\n",
    "\n",
    "churn_df = churn_df.drop(['order_cnt_36mo','purch_amt_36mo','purch_amt_life','purch_avg_36mo','purch_cnt_life',\n",
    "                          'purch_cnt_tt_36mo','resp_cnt_36mo',\n",
    "                          'purch_cnt_cc_36mo','purch_cnt_ck_36mo','purch_cnt_et_36mo'],axis=1)\n",
    "\n",
    "print(\" summary stats on churn data \") \n",
    "print(churn_df.describe(include='all').transpose())"
   ]
  },
  {
   "cell_type": "markdown",
   "metadata": {},
   "source": [
    "## histogram plot on new log variable in Churn data"
   ]
  },
  {
   "cell_type": "code",
   "execution_count": 11,
   "metadata": {},
   "outputs": [
    {
     "data": {
      "text/plain": [
       "<matplotlib.axes._subplots.AxesSubplot at 0x1091b6510>"
      ]
     },
     "execution_count": 11,
     "metadata": {},
     "output_type": "execute_result"
    },
    {
     "data": {
      "image/png": "[encoded data removed]",
      "text/plain": [
       "<Figure size 432x288 with 1 Axes>"
      ]
     },
     "metadata": {
      "needs_background": "light"
     },
     "output_type": "display_data"
    }
   ],
   "source": [
    "churn_df['log_purch_amt_life'].plot.hist(title=\"Distribution of LOG of Purchase Amount\",bins=50)"
   ]
  },
  {
   "cell_type": "markdown",
   "metadata": {},
   "source": [
    "## Feature engineering on margin data, while keeping original variables.\n",
    "## Using logs with an offset that will account for very large negative margins:"
   ]
  },
  {
   "cell_type": "code",
   "execution_count": 12,
   "metadata": {},
   "outputs": [],
   "source": [
    "margin_df['margin_3yr_avg']=(margin_df['margin_Y_neg_1']+margin_df['margin_Y_neg_2']+margin_df['margin_Y_neg_3'])/3\n",
    "margin_df['log_margin_Y_neg_1']=np.log10(margin_df['margin_Y_neg_1']+50000)\n",
    "margin_df['log_margin_Y_neg_2']=np.log10(margin_df['margin_Y_neg_2']+50000)\n",
    "margin_df['log_margin_Y_neg_3']=np.log10(margin_df['margin_Y_neg_3']+50000)\n",
    "margin_df['log_margin_3yr_avg']=np.log10(margin_df['margin_3yr_avg']+50000)\n",
    "margin_df['log_margin_Y_pos_1']=np.log10(margin_df['margin_Y_pos_1']+50000)"
   ]
  },
  {
   "cell_type": "markdown",
   "metadata": {},
   "source": [
    "## Histogram on transformed target for Margin data"
   ]
  },
  {
   "cell_type": "code",
   "execution_count": 13,
   "metadata": {},
   "outputs": [
    {
     "data": {
      "text/plain": [
       "<matplotlib.axes._subplots.AxesSubplot at 0x11b52a490>"
      ]
     },
     "execution_count": 13,
     "metadata": {},
     "output_type": "execute_result"
    },
    {
     "data": {
      "image/png": "[encoded data removed]",
      "text/plain": [
       "<Figure size 432x288 with 1 Axes>"
      ]
     },
     "metadata": {
      "needs_background": "light"
     },
     "output_type": "display_data"
    }
   ],
   "source": [
    "margin_df['log_margin_Y_pos_1'].plot.hist(title=\"Distribution of LOG of Future Margin\",bins=50)"
   ]
  },
  {
   "cell_type": "markdown",
   "metadata": {},
   "source": [
    "## Scatter plot on Future Margin vs Prior Margin (logarithms):"
   ]
  },
  {
   "cell_type": "code",
   "execution_count": 14,
   "metadata": {},
   "outputs": [
    {
     "name": "stdout",
     "output_type": "stream",
     "text": [
      " \n"
     ]
    },
    {
     "data": {
      "image/png": "[encoded data removed]",
      "text/plain": [
       "<Figure size 432x288 with 1 Axes>"
      ]
     },
     "metadata": {
      "needs_background": "light"
     },
     "output_type": "display_data"
    }
   ],
   "source": [
    "plt.scatter(margin_df['log_margin_3yr_avg'], margin_df['log_margin_Y_pos_1'])\n",
    "plt.xlabel(\"3-Year Average Margin (log)\")\n",
    "plt.ylabel(\"Future Year Margin (log)\")\n",
    "plt.title(\"Scatter Plot on Margin Data\")\n",
    "print(\" \") \n",
    "plt.show()"
   ]
  },
  {
   "cell_type": "markdown",
   "metadata": {},
   "source": [
    "## Eliminating duplicate acct_IDs before joining data:"
   ]
  },
  {
   "cell_type": "code",
   "execution_count": 15,
   "metadata": {},
   "outputs": [
    {
     "data": {
      "text/plain": [
       "(73384, 31)"
      ]
     },
     "execution_count": 15,
     "metadata": {},
     "output_type": "execute_result"
    }
   ],
   "source": [
    "churn_df.drop_duplicates(subset=['acct_ID'], keep='first', inplace=True)\n",
    "churn_df.shape"
   ]
  },
  {
   "cell_type": "code",
   "execution_count": 16,
   "metadata": {},
   "outputs": [
    {
     "data": {
      "text/plain": [
       "(73384, 11)"
      ]
     },
     "execution_count": 16,
     "metadata": {},
     "output_type": "execute_result"
    }
   ],
   "source": [
    "margin_df.drop_duplicates(subset=['acct_ID'], keep='first', inplace=True)\n",
    "margin_df.shape"
   ]
  },
  {
   "cell_type": "markdown",
   "metadata": {},
   "source": [
    "## Join Churn and Margin data by acct_ID:"
   ]
  },
  {
   "cell_type": "code",
   "execution_count": 17,
   "metadata": {},
   "outputs": [
    {
     "data": {
      "text/plain": [
       "(73384, 41)"
      ]
     },
     "execution_count": 17,
     "metadata": {},
     "output_type": "execute_result"
    }
   ],
   "source": [
    "combined_df = pd.merge(churn_df, margin_df, on='acct_ID', how='inner')\n",
    "combined_df.shape"
   ]
  },
  {
   "cell_type": "markdown",
   "metadata": {},
   "source": [
    "## Create dummy variables for certain categorical variables."
   ]
  },
  {
   "cell_type": "code",
   "execution_count": 18,
   "metadata": {},
   "outputs": [
    {
     "name": "stdout",
     "output_type": "stream",
     "text": [
      " \n",
      "New dataset with dummies\n",
      " \n",
      "   ST    Zip  DMA  Area_Cd  emailable  solicit_ph_ind  solicit_email_ind  fixd_incm_flg  scheduled_purchase_flg  months_since_last_trans  months_since_first_trans  purch_avg_interval  mail_cnt_36mo  call_in_mo_36mo  call_out_mo_36mo        tier  tier_prev     acct_ID activation_date event_date  churn_year_plus1_ind  log_order_cnt_36mo  log_purch_amt_36mo  log_purch_amt_life  log_purch_avg_36mo  ...  ST_RI  ST_SC  ST_SD  ST_TN  ST_TX  ST_UT  ST_VA  ST_VI  ST_VT  ST_WA  ST_WI  ST_WV  ST_WY  ST_missing  tier_1-Bronze  tier_2-Silver  tier_3-Gold  tier_4-Platinum  tier_5-Diamond  tier_prev_1-Bronze  tier_prev_2-Silver  tier_prev_3-Gold  tier_prev_4-Platinum  tier_prev_5-Diamond  tier_prev_xxx\n",
      "0  VA  23464  544  missing          0               0                  1              0                       0                        2                       128                2.93              4                0                 0      3-Gold        xxx  B102465045         04JAN04    30JUN15                     1                0.30                4.16                4.42                2.54  ...      0      0      0      0      0      0      1      0      0      0      0      0      0           0              0              0            1                0               0                   0                   0                 0                     0                    0              1\n",
      "1  NC  27542  560      919          1               1                  1              0                       0                        4                       122                2.11             22                4                 0   5-Diamond     3-Gold  B106897643         04JUL04        NaN                     0                0.95                3.50                4.09                2.14  ...      0      0      0      0      0      0      0      0      0      0      0      0      0           0              0              0            0                0               1                   0                   0                 1                     0                    0              0\n",
      "2  NV  89109  839      702          0               0                  1              0                       0                        8                        96               88.00              1                0                 0    1-Bronze        xxx  B111832829         03SEP06        NaN                     0                0.30                2.48                3.03                2.48  ...      0      0      0      0      0      0      0      0      0      0      0      0      0           0              1              0            0                0               0                   0                   0                 0                     0                    0              1\n",
      "3  OH  43050  535      614          0               1                  1              0                       0                        1                       108                1.02             36                0                 0    1-Bronze        xxx  B112883062         03SEP05        NaN                     0                0.85                2.85                3.33                1.32  ...      0      0      0      0      0      0      0      0      0      0      0      0      0           0              1              0            0                0               0                   0                   0                 0                     0                    0              1\n",
      "4  HI  96789  744      808          1               1                  1              0                       0                        4                       105                1.53             19                4                 0  4-Platinum     3-Gold  B113581008         03DEC05        NaN                     0                0.85                3.93                4.30                2.65  ...      0      0      0      0      0      0      0      0      0      0      0      0      0           0              0              0            0                1               0                   0                   0                 1                     0                    0              0\n",
      "5  NC  28278  517      704          0               1                  1              0                       0                       11                        96                1.27             13                0                 0    2-Silver        xxx  B118493825         03SEP06    30SEP14                     1                0.48                2.85                3.53                1.74  ...      0      0      0      0      0      0      0      0      0      0      0      0      0           0              0              1            0                0               0                   0                   0                 0                     0                    0              1\n",
      "6  WV  24966  559  missing          1               0                  1              0                       0                        8                        86                1.95             24                0                 0    1-Bronze        xxx  B124032921         04JUL07        NaN                     0                0.70                2.97                3.13                1.61  ...      0      0      0      0      0      0      0      0      0      0      0      1      0           0              1              0            0                0               0                   0                   0                 0                     0                    0              1\n",
      "7  NC  27317  518      336          0               1                  1              0                       0                        9                        69                5.45              4                0                 0   5-Diamond  5-Diamond  B124422430         01DEC08        NaN                     0                1.00                4.48                4.79                3.70  ...      0      0      0      0      0      0      0      0      0      0      0      0      0           0              0              0            0                0               1                   0                   0                 0                     0                    1              0\n",
      "8  MT  59870  762      406          0               1                  1              0                       0                        1                        83                0.99             36                0                 0    2-Silver   1-Bronze  B124526308         03OCT07        NaN                     0                0.85                3.16                3.41                1.61  ...      0      0      0      0      0      0      0      0      0      0      0      0      0           0              0              1            0                0               0                   1                   0                 0                     0                    0              0\n",
      "9  KY  40272  529      502          1               1                  1              0                       0                        1                        81                2.29             13                9                 0    1-Bronze        xxx  B125814191         03DEC07        NaN                     0                0.90                2.81                3.26                1.71  ...      0      0      0      0      0      0      0      0      0      0      0      0      0           0              1              0            0                0               0                   0                   0                 0                     0                    0              1\n",
      "\n",
      "[10 rows x 111 columns]\n",
      " \n",
      "Columns in new data\n",
      " \n",
      "ST                           object\n",
      "Zip                          object\n",
      "DMA                          object\n",
      "Area_Cd                      object\n",
      "emailable                     int64\n",
      "solicit_ph_ind                int64\n",
      "solicit_email_ind             int64\n",
      "fixd_incm_flg                 int64\n",
      "scheduled_purchase_flg        int64\n",
      "months_since_last_trans       int64\n",
      "months_since_first_trans      int64\n",
      "purch_avg_interval          float64\n",
      "mail_cnt_36mo                 int64\n",
      "call_in_mo_36mo               int64\n",
      "call_out_mo_36mo              int64\n",
      "tier                         object\n",
      "tier_prev                    object\n",
      "acct_ID                      object\n",
      "activation_date              object\n",
      "event_date                   object\n",
      "churn_year_plus1_ind          int64\n",
      "log_order_cnt_36mo          float64\n",
      "log_purch_amt_36mo          float64\n",
      "log_purch_amt_life          float64\n",
      "log_purch_avg_36mo          float64\n",
      "log_purch_cnt_life          float64\n",
      "log_purch_cnt_tt_36mo       float64\n",
      "log_resp_cnt_36mo           float64\n",
      "perc_purch_cc_36mo          float64\n",
      "perc_purch_ck_36mo          float64\n",
      "perc_purch_et_36mo          float64\n",
      "margin_Y_neg_1              float64\n",
      "margin_Y_neg_2              float64\n",
      "margin_Y_neg_3              float64\n",
      "margin_Y_pos_1              float64\n",
      "margin_3yr_avg              float64\n",
      "log_margin_Y_neg_1          float64\n",
      "log_margin_Y_neg_2          float64\n",
      "log_margin_Y_neg_3          float64\n",
      "log_margin_3yr_avg          float64\n",
      "log_margin_Y_pos_1          float64\n",
      "ST_AE                         uint8\n",
      "ST_AK                         uint8\n",
      "ST_AL                         uint8\n",
      "ST_AP                         uint8\n",
      "ST_AR                         uint8\n",
      "ST_AS                         uint8\n",
      "ST_AZ                         uint8\n",
      "ST_CA                         uint8\n",
      "ST_CO                         uint8\n",
      "ST_CT                         uint8\n",
      "ST_DC                         uint8\n",
      "ST_DE                         uint8\n",
      "ST_FL                         uint8\n",
      "ST_GA                         uint8\n",
      "ST_GU                         uint8\n",
      "ST_HI                         uint8\n",
      "ST_IA                         uint8\n",
      "ST_ID                         uint8\n",
      "ST_IL                         uint8\n",
      "ST_IN                         uint8\n",
      "ST_KS                         uint8\n",
      "ST_KY                         uint8\n",
      "ST_LA                         uint8\n",
      "ST_MA                         uint8\n",
      "ST_MD                         uint8\n",
      "ST_ME                         uint8\n",
      "ST_MI                         uint8\n",
      "ST_MN                         uint8\n",
      "ST_MO                         uint8\n",
      "ST_MP                         uint8\n",
      "ST_MS                         uint8\n",
      "ST_MT                         uint8\n",
      "ST_NC                         uint8\n",
      "ST_ND                         uint8\n",
      "ST_NE                         uint8\n",
      "ST_NH                         uint8\n",
      "ST_NJ                         uint8\n",
      "ST_NM                         uint8\n",
      "ST_NV                         uint8\n",
      "ST_NY                         uint8\n",
      "ST_OH                         uint8\n",
      "ST_OK                         uint8\n",
      "ST_OR                         uint8\n",
      "ST_PA                         uint8\n",
      "ST_PR                         uint8\n",
      "ST_RI                         uint8\n",
      "ST_SC                         uint8\n",
      "ST_SD                         uint8\n",
      "ST_TN                         uint8\n",
      "ST_TX                         uint8\n",
      "ST_UT                         uint8\n",
      "ST_VA                         uint8\n",
      "ST_VI                         uint8\n",
      "ST_VT                         uint8\n",
      "ST_WA                         uint8\n",
      "ST_WI                         uint8\n",
      "ST_WV                         uint8\n",
      "ST_WY                         uint8\n",
      "ST_missing                    uint8\n",
      "tier_1-Bronze                 uint8\n",
      "tier_2-Silver                 uint8\n",
      "tier_3-Gold                   uint8\n",
      "tier_4-Platinum               uint8\n",
      "tier_5-Diamond                uint8\n",
      "tier_prev_1-Bronze            uint8\n",
      "tier_prev_2-Silver            uint8\n",
      "tier_prev_3-Gold              uint8\n",
      "tier_prev_4-Platinum          uint8\n",
      "tier_prev_5-Diamond           uint8\n",
      "tier_prev_xxx                 uint8\n",
      "dtype: object\n"
     ]
    }
   ],
   "source": [
    "\"\"\" WARNING: this commented-out approach would create dummy indicators for all \"\"\"\n",
    "\"\"\"    categorical variables, including those with very high cardinality, such as zip codes \"\"\"\n",
    "\"\"\"    and also would drop the original categorical variables and only keep the dummy indicators \"\"\"\n",
    "\n",
    "\"\"\" combined_df = pd.get_dummies(combined_df) \"\"\"\n",
    "\n",
    "\"\"\" this approach hand-picks only certain variables for which to create dummy indicators \"\"\"\n",
    "\"\"\" and keeps the original variables too \"\"\"\n",
    "\n",
    "for column in ['ST', 'tier', 'tier_prev']:\n",
    "    dummies = pd.get_dummies(combined_df[column],prefix=column)\n",
    "    combined_df[dummies.columns] = dummies\n",
    "\n",
    "print(\" \") \n",
    "print(\"New dataset with dummies\") \n",
    "print(\" \") \n",
    "print(combined_df.head(10)) \n",
    "print(\" \") \n",
    "print(\"Columns in new data\")\n",
    "print(\" \") \n",
    "print(combined_df.dtypes)"
   ]
  },
  {
   "cell_type": "markdown",
   "metadata": {},
   "source": [
    "## export updated data as new csv file"
   ]
  },
  {
   "cell_type": "code",
   "execution_count": 19,
   "metadata": {},
   "outputs": [],
   "source": [
    "combined_df.to_csv('~/Documents/fall2019/5753/combined_data.csv',index=False)"
   ]
  },
  {
   "cell_type": "code",
   "execution_count": null,
   "metadata": {},
   "outputs": [],
   "source": []
  }
 ],
 "metadata": {
  "kernelspec": {
   "display_name": "Python 3",
   "language": "python",
   "name": "python3"
  },
  "language_info": {
   "codemirror_mode": {
    "name": "ipython",
    "version": 3
   },
   "file_extension": ".py",
   "mimetype": "text/x-python",
   "name": "python",
   "nbconvert_exporter": "python",
   "pygments_lexer": "ipython3",
   "version": "3.7.4"
  }
 },
 "nbformat": 4,
 "nbformat_minor": 2
}
